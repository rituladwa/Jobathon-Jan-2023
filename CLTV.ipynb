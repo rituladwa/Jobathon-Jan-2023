{
 "cells": [
  {
   "cell_type": "markdown",
   "id": "84141edc",
   "metadata": {},
   "source": [
    "## Import Libraries"
   ]
  },
  {
   "cell_type": "code",
   "execution_count": 1,
   "id": "684e2022",
   "metadata": {},
   "outputs": [],
   "source": [
    "import pandas as pd\n",
    "import numpy as np\n",
    "import seaborn as sns\n",
    "from matplotlib import pyplot as plt\n",
    "from sklearn.preprocessing import LabelEncoder\n",
    "from sklearn.model_selection import train_test_split\n",
    "from sklearn.linear_model import LinearRegression,Lasso,Ridge\n",
    "from sklearn.ensemble import GradientBoostingRegressor,RandomForestRegressor\n",
    "from sklearn.tree import DecisionTreeRegressor\n",
    "from sklearn.metrics import r2_score\n",
    "from sklearn.feature_selection import RFE\n",
    "\n",
    "import warnings\n",
    "warnings.filterwarnings('ignore')"
   ]
  },
  {
   "cell_type": "markdown",
   "id": "29efd965",
   "metadata": {},
   "source": [
    "## Import Dataset"
   ]
  },
  {
   "cell_type": "code",
   "execution_count": 2,
   "id": "800ff515",
   "metadata": {
    "scrolled": false
   },
   "outputs": [
    {
     "data": {
      "text/html": [
       "<div>\n",
       "<style scoped>\n",
       "    .dataframe tbody tr th:only-of-type {\n",
       "        vertical-align: middle;\n",
       "    }\n",
       "\n",
       "    .dataframe tbody tr th {\n",
       "        vertical-align: top;\n",
       "    }\n",
       "\n",
       "    .dataframe thead th {\n",
       "        text-align: right;\n",
       "    }\n",
       "</style>\n",
       "<table border=\"1\" class=\"dataframe\">\n",
       "  <thead>\n",
       "    <tr style=\"text-align: right;\">\n",
       "      <th></th>\n",
       "      <th>id</th>\n",
       "      <th>gender</th>\n",
       "      <th>area</th>\n",
       "      <th>qualification</th>\n",
       "      <th>income</th>\n",
       "      <th>marital_status</th>\n",
       "      <th>vintage</th>\n",
       "      <th>claim_amount</th>\n",
       "      <th>num_policies</th>\n",
       "      <th>policy</th>\n",
       "      <th>type_of_policy</th>\n",
       "      <th>cltv</th>\n",
       "    </tr>\n",
       "  </thead>\n",
       "  <tbody>\n",
       "    <tr>\n",
       "      <th>0</th>\n",
       "      <td>1</td>\n",
       "      <td>Male</td>\n",
       "      <td>Urban</td>\n",
       "      <td>Bachelor</td>\n",
       "      <td>5L-10L</td>\n",
       "      <td>1</td>\n",
       "      <td>5</td>\n",
       "      <td>5790</td>\n",
       "      <td>More than 1</td>\n",
       "      <td>A</td>\n",
       "      <td>Platinum</td>\n",
       "      <td>64308</td>\n",
       "    </tr>\n",
       "    <tr>\n",
       "      <th>1</th>\n",
       "      <td>2</td>\n",
       "      <td>Male</td>\n",
       "      <td>Rural</td>\n",
       "      <td>High School</td>\n",
       "      <td>5L-10L</td>\n",
       "      <td>0</td>\n",
       "      <td>8</td>\n",
       "      <td>5080</td>\n",
       "      <td>More than 1</td>\n",
       "      <td>A</td>\n",
       "      <td>Platinum</td>\n",
       "      <td>515400</td>\n",
       "    </tr>\n",
       "    <tr>\n",
       "      <th>2</th>\n",
       "      <td>3</td>\n",
       "      <td>Male</td>\n",
       "      <td>Urban</td>\n",
       "      <td>Bachelor</td>\n",
       "      <td>5L-10L</td>\n",
       "      <td>1</td>\n",
       "      <td>8</td>\n",
       "      <td>2599</td>\n",
       "      <td>More than 1</td>\n",
       "      <td>A</td>\n",
       "      <td>Platinum</td>\n",
       "      <td>64212</td>\n",
       "    </tr>\n",
       "    <tr>\n",
       "      <th>3</th>\n",
       "      <td>4</td>\n",
       "      <td>Female</td>\n",
       "      <td>Rural</td>\n",
       "      <td>High School</td>\n",
       "      <td>5L-10L</td>\n",
       "      <td>0</td>\n",
       "      <td>7</td>\n",
       "      <td>0</td>\n",
       "      <td>More than 1</td>\n",
       "      <td>A</td>\n",
       "      <td>Platinum</td>\n",
       "      <td>97920</td>\n",
       "    </tr>\n",
       "    <tr>\n",
       "      <th>4</th>\n",
       "      <td>5</td>\n",
       "      <td>Male</td>\n",
       "      <td>Urban</td>\n",
       "      <td>High School</td>\n",
       "      <td>More than 10L</td>\n",
       "      <td>1</td>\n",
       "      <td>6</td>\n",
       "      <td>3508</td>\n",
       "      <td>More than 1</td>\n",
       "      <td>A</td>\n",
       "      <td>Gold</td>\n",
       "      <td>59736</td>\n",
       "    </tr>\n",
       "    <tr>\n",
       "      <th>...</th>\n",
       "      <td>...</td>\n",
       "      <td>...</td>\n",
       "      <td>...</td>\n",
       "      <td>...</td>\n",
       "      <td>...</td>\n",
       "      <td>...</td>\n",
       "      <td>...</td>\n",
       "      <td>...</td>\n",
       "      <td>...</td>\n",
       "      <td>...</td>\n",
       "      <td>...</td>\n",
       "      <td>...</td>\n",
       "    </tr>\n",
       "    <tr>\n",
       "      <th>89387</th>\n",
       "      <td>89388</td>\n",
       "      <td>Male</td>\n",
       "      <td>Rural</td>\n",
       "      <td>High School</td>\n",
       "      <td>More than 10L</td>\n",
       "      <td>0</td>\n",
       "      <td>6</td>\n",
       "      <td>0</td>\n",
       "      <td>More than 1</td>\n",
       "      <td>B</td>\n",
       "      <td>Platinum</td>\n",
       "      <td>95736</td>\n",
       "    </tr>\n",
       "    <tr>\n",
       "      <th>89388</th>\n",
       "      <td>89389</td>\n",
       "      <td>Male</td>\n",
       "      <td>Urban</td>\n",
       "      <td>Bachelor</td>\n",
       "      <td>5L-10L</td>\n",
       "      <td>1</td>\n",
       "      <td>0</td>\n",
       "      <td>3897</td>\n",
       "      <td>More than 1</td>\n",
       "      <td>A</td>\n",
       "      <td>Platinum</td>\n",
       "      <td>67596</td>\n",
       "    </tr>\n",
       "    <tr>\n",
       "      <th>89389</th>\n",
       "      <td>89390</td>\n",
       "      <td>Female</td>\n",
       "      <td>Urban</td>\n",
       "      <td>Bachelor</td>\n",
       "      <td>5L-10L</td>\n",
       "      <td>0</td>\n",
       "      <td>4</td>\n",
       "      <td>3363</td>\n",
       "      <td>More than 1</td>\n",
       "      <td>B</td>\n",
       "      <td>Platinum</td>\n",
       "      <td>114120</td>\n",
       "    </tr>\n",
       "    <tr>\n",
       "      <th>89390</th>\n",
       "      <td>89391</td>\n",
       "      <td>Female</td>\n",
       "      <td>Rural</td>\n",
       "      <td>High School</td>\n",
       "      <td>2L-5L</td>\n",
       "      <td>0</td>\n",
       "      <td>8</td>\n",
       "      <td>0</td>\n",
       "      <td>More than 1</td>\n",
       "      <td>B</td>\n",
       "      <td>Platinum</td>\n",
       "      <td>71772</td>\n",
       "    </tr>\n",
       "    <tr>\n",
       "      <th>89391</th>\n",
       "      <td>89392</td>\n",
       "      <td>Female</td>\n",
       "      <td>Rural</td>\n",
       "      <td>High School</td>\n",
       "      <td>5L-10L</td>\n",
       "      <td>0</td>\n",
       "      <td>6</td>\n",
       "      <td>0</td>\n",
       "      <td>More than 1</td>\n",
       "      <td>B</td>\n",
       "      <td>Gold</td>\n",
       "      <td>108144</td>\n",
       "    </tr>\n",
       "  </tbody>\n",
       "</table>\n",
       "<p>89392 rows × 12 columns</p>\n",
       "</div>"
      ],
      "text/plain": [
       "          id  gender   area qualification         income  marital_status  \\\n",
       "0          1    Male  Urban      Bachelor         5L-10L               1   \n",
       "1          2    Male  Rural   High School         5L-10L               0   \n",
       "2          3    Male  Urban      Bachelor         5L-10L               1   \n",
       "3          4  Female  Rural   High School         5L-10L               0   \n",
       "4          5    Male  Urban   High School  More than 10L               1   \n",
       "...      ...     ...    ...           ...            ...             ...   \n",
       "89387  89388    Male  Rural   High School  More than 10L               0   \n",
       "89388  89389    Male  Urban      Bachelor         5L-10L               1   \n",
       "89389  89390  Female  Urban      Bachelor         5L-10L               0   \n",
       "89390  89391  Female  Rural   High School          2L-5L               0   \n",
       "89391  89392  Female  Rural   High School         5L-10L               0   \n",
       "\n",
       "       vintage  claim_amount num_policies policy type_of_policy    cltv  \n",
       "0            5          5790  More than 1      A       Platinum   64308  \n",
       "1            8          5080  More than 1      A       Platinum  515400  \n",
       "2            8          2599  More than 1      A       Platinum   64212  \n",
       "3            7             0  More than 1      A       Platinum   97920  \n",
       "4            6          3508  More than 1      A           Gold   59736  \n",
       "...        ...           ...          ...    ...            ...     ...  \n",
       "89387        6             0  More than 1      B       Platinum   95736  \n",
       "89388        0          3897  More than 1      A       Platinum   67596  \n",
       "89389        4          3363  More than 1      B       Platinum  114120  \n",
       "89390        8             0  More than 1      B       Platinum   71772  \n",
       "89391        6             0  More than 1      B           Gold  108144  \n",
       "\n",
       "[89392 rows x 12 columns]"
      ]
     },
     "execution_count": 2,
     "metadata": {},
     "output_type": "execute_result"
    }
   ],
   "source": [
    "train = pd.read_csv('train_BRCpofr.csv') #training data\n",
    "train"
   ]
  },
  {
   "cell_type": "code",
   "execution_count": 3,
   "id": "1885985e",
   "metadata": {
    "scrolled": false
   },
   "outputs": [
    {
     "data": {
      "text/html": [
       "<div>\n",
       "<style scoped>\n",
       "    .dataframe tbody tr th:only-of-type {\n",
       "        vertical-align: middle;\n",
       "    }\n",
       "\n",
       "    .dataframe tbody tr th {\n",
       "        vertical-align: top;\n",
       "    }\n",
       "\n",
       "    .dataframe thead th {\n",
       "        text-align: right;\n",
       "    }\n",
       "</style>\n",
       "<table border=\"1\" class=\"dataframe\">\n",
       "  <thead>\n",
       "    <tr style=\"text-align: right;\">\n",
       "      <th></th>\n",
       "      <th>id</th>\n",
       "      <th>gender</th>\n",
       "      <th>area</th>\n",
       "      <th>qualification</th>\n",
       "      <th>income</th>\n",
       "      <th>marital_status</th>\n",
       "      <th>vintage</th>\n",
       "      <th>claim_amount</th>\n",
       "      <th>num_policies</th>\n",
       "      <th>policy</th>\n",
       "      <th>type_of_policy</th>\n",
       "    </tr>\n",
       "  </thead>\n",
       "  <tbody>\n",
       "    <tr>\n",
       "      <th>0</th>\n",
       "      <td>89393</td>\n",
       "      <td>Female</td>\n",
       "      <td>Rural</td>\n",
       "      <td>High School</td>\n",
       "      <td>5L-10L</td>\n",
       "      <td>0</td>\n",
       "      <td>6</td>\n",
       "      <td>2134</td>\n",
       "      <td>More than 1</td>\n",
       "      <td>B</td>\n",
       "      <td>Silver</td>\n",
       "    </tr>\n",
       "    <tr>\n",
       "      <th>1</th>\n",
       "      <td>89394</td>\n",
       "      <td>Female</td>\n",
       "      <td>Urban</td>\n",
       "      <td>High School</td>\n",
       "      <td>2L-5L</td>\n",
       "      <td>0</td>\n",
       "      <td>4</td>\n",
       "      <td>4102</td>\n",
       "      <td>More than 1</td>\n",
       "      <td>A</td>\n",
       "      <td>Platinum</td>\n",
       "    </tr>\n",
       "    <tr>\n",
       "      <th>2</th>\n",
       "      <td>89395</td>\n",
       "      <td>Male</td>\n",
       "      <td>Rural</td>\n",
       "      <td>High School</td>\n",
       "      <td>5L-10L</td>\n",
       "      <td>1</td>\n",
       "      <td>7</td>\n",
       "      <td>2925</td>\n",
       "      <td>More than 1</td>\n",
       "      <td>B</td>\n",
       "      <td>Gold</td>\n",
       "    </tr>\n",
       "    <tr>\n",
       "      <th>3</th>\n",
       "      <td>89396</td>\n",
       "      <td>Female</td>\n",
       "      <td>Rural</td>\n",
       "      <td>Bachelor</td>\n",
       "      <td>More than 10L</td>\n",
       "      <td>1</td>\n",
       "      <td>2</td>\n",
       "      <td>0</td>\n",
       "      <td>More than 1</td>\n",
       "      <td>B</td>\n",
       "      <td>Silver</td>\n",
       "    </tr>\n",
       "    <tr>\n",
       "      <th>4</th>\n",
       "      <td>89397</td>\n",
       "      <td>Female</td>\n",
       "      <td>Urban</td>\n",
       "      <td>High School</td>\n",
       "      <td>2L-5L</td>\n",
       "      <td>0</td>\n",
       "      <td>5</td>\n",
       "      <td>14059</td>\n",
       "      <td>More than 1</td>\n",
       "      <td>B</td>\n",
       "      <td>Silver</td>\n",
       "    </tr>\n",
       "    <tr>\n",
       "      <th>...</th>\n",
       "      <td>...</td>\n",
       "      <td>...</td>\n",
       "      <td>...</td>\n",
       "      <td>...</td>\n",
       "      <td>...</td>\n",
       "      <td>...</td>\n",
       "      <td>...</td>\n",
       "      <td>...</td>\n",
       "      <td>...</td>\n",
       "      <td>...</td>\n",
       "      <td>...</td>\n",
       "    </tr>\n",
       "    <tr>\n",
       "      <th>59590</th>\n",
       "      <td>148983</td>\n",
       "      <td>Male</td>\n",
       "      <td>Rural</td>\n",
       "      <td>Bachelor</td>\n",
       "      <td>5L-10L</td>\n",
       "      <td>1</td>\n",
       "      <td>6</td>\n",
       "      <td>0</td>\n",
       "      <td>1</td>\n",
       "      <td>A</td>\n",
       "      <td>Silver</td>\n",
       "    </tr>\n",
       "    <tr>\n",
       "      <th>59591</th>\n",
       "      <td>148984</td>\n",
       "      <td>Male</td>\n",
       "      <td>Urban</td>\n",
       "      <td>High School</td>\n",
       "      <td>5L-10L</td>\n",
       "      <td>0</td>\n",
       "      <td>6</td>\n",
       "      <td>0</td>\n",
       "      <td>1</td>\n",
       "      <td>C</td>\n",
       "      <td>Gold</td>\n",
       "    </tr>\n",
       "    <tr>\n",
       "      <th>59592</th>\n",
       "      <td>148985</td>\n",
       "      <td>Female</td>\n",
       "      <td>Urban</td>\n",
       "      <td>High School</td>\n",
       "      <td>2L-5L</td>\n",
       "      <td>1</td>\n",
       "      <td>4</td>\n",
       "      <td>3323</td>\n",
       "      <td>More than 1</td>\n",
       "      <td>B</td>\n",
       "      <td>Platinum</td>\n",
       "    </tr>\n",
       "    <tr>\n",
       "      <th>59593</th>\n",
       "      <td>148986</td>\n",
       "      <td>Male</td>\n",
       "      <td>Rural</td>\n",
       "      <td>Bachelor</td>\n",
       "      <td>5L-10L</td>\n",
       "      <td>0</td>\n",
       "      <td>1</td>\n",
       "      <td>2886</td>\n",
       "      <td>More than 1</td>\n",
       "      <td>A</td>\n",
       "      <td>Silver</td>\n",
       "    </tr>\n",
       "    <tr>\n",
       "      <th>59594</th>\n",
       "      <td>148987</td>\n",
       "      <td>Female</td>\n",
       "      <td>Urban</td>\n",
       "      <td>Bachelor</td>\n",
       "      <td>5L-10L</td>\n",
       "      <td>1</td>\n",
       "      <td>4</td>\n",
       "      <td>5939</td>\n",
       "      <td>More than 1</td>\n",
       "      <td>B</td>\n",
       "      <td>Platinum</td>\n",
       "    </tr>\n",
       "  </tbody>\n",
       "</table>\n",
       "<p>59595 rows × 11 columns</p>\n",
       "</div>"
      ],
      "text/plain": [
       "           id  gender   area qualification         income  marital_status  \\\n",
       "0       89393  Female  Rural   High School         5L-10L               0   \n",
       "1       89394  Female  Urban   High School          2L-5L               0   \n",
       "2       89395    Male  Rural   High School         5L-10L               1   \n",
       "3       89396  Female  Rural      Bachelor  More than 10L               1   \n",
       "4       89397  Female  Urban   High School          2L-5L               0   \n",
       "...       ...     ...    ...           ...            ...             ...   \n",
       "59590  148983    Male  Rural      Bachelor         5L-10L               1   \n",
       "59591  148984    Male  Urban   High School         5L-10L               0   \n",
       "59592  148985  Female  Urban   High School          2L-5L               1   \n",
       "59593  148986    Male  Rural      Bachelor         5L-10L               0   \n",
       "59594  148987  Female  Urban      Bachelor         5L-10L               1   \n",
       "\n",
       "       vintage  claim_amount num_policies policy type_of_policy  \n",
       "0            6          2134  More than 1      B         Silver  \n",
       "1            4          4102  More than 1      A       Platinum  \n",
       "2            7          2925  More than 1      B           Gold  \n",
       "3            2             0  More than 1      B         Silver  \n",
       "4            5         14059  More than 1      B         Silver  \n",
       "...        ...           ...          ...    ...            ...  \n",
       "59590        6             0            1      A         Silver  \n",
       "59591        6             0            1      C           Gold  \n",
       "59592        4          3323  More than 1      B       Platinum  \n",
       "59593        1          2886  More than 1      A         Silver  \n",
       "59594        4          5939  More than 1      B       Platinum  \n",
       "\n",
       "[59595 rows x 11 columns]"
      ]
     },
     "execution_count": 3,
     "metadata": {},
     "output_type": "execute_result"
    }
   ],
   "source": [
    "test = pd.read_csv('test_koRSKBP.csv') #testing data\n",
    "test"
   ]
  },
  {
   "cell_type": "code",
   "execution_count": 4,
   "id": "118be8ac",
   "metadata": {},
   "outputs": [],
   "source": [
    "#store the length\n",
    "train_len = len(train)\n",
    "test_len = len(test)"
   ]
  },
  {
   "cell_type": "code",
   "execution_count": 5,
   "id": "8341d81e",
   "metadata": {},
   "outputs": [
    {
     "data": {
      "text/html": [
       "<div>\n",
       "<style scoped>\n",
       "    .dataframe tbody tr th:only-of-type {\n",
       "        vertical-align: middle;\n",
       "    }\n",
       "\n",
       "    .dataframe tbody tr th {\n",
       "        vertical-align: top;\n",
       "    }\n",
       "\n",
       "    .dataframe thead th {\n",
       "        text-align: right;\n",
       "    }\n",
       "</style>\n",
       "<table border=\"1\" class=\"dataframe\">\n",
       "  <thead>\n",
       "    <tr style=\"text-align: right;\">\n",
       "      <th></th>\n",
       "      <th>id</th>\n",
       "      <th>gender</th>\n",
       "      <th>area</th>\n",
       "      <th>qualification</th>\n",
       "      <th>income</th>\n",
       "      <th>marital_status</th>\n",
       "      <th>vintage</th>\n",
       "      <th>claim_amount</th>\n",
       "      <th>num_policies</th>\n",
       "      <th>policy</th>\n",
       "      <th>type_of_policy</th>\n",
       "      <th>cltv</th>\n",
       "    </tr>\n",
       "  </thead>\n",
       "  <tbody>\n",
       "    <tr>\n",
       "      <th>0</th>\n",
       "      <td>1</td>\n",
       "      <td>Male</td>\n",
       "      <td>Urban</td>\n",
       "      <td>Bachelor</td>\n",
       "      <td>5L-10L</td>\n",
       "      <td>1</td>\n",
       "      <td>5</td>\n",
       "      <td>5790</td>\n",
       "      <td>More than 1</td>\n",
       "      <td>A</td>\n",
       "      <td>Platinum</td>\n",
       "      <td>64308.0</td>\n",
       "    </tr>\n",
       "    <tr>\n",
       "      <th>1</th>\n",
       "      <td>2</td>\n",
       "      <td>Male</td>\n",
       "      <td>Rural</td>\n",
       "      <td>High School</td>\n",
       "      <td>5L-10L</td>\n",
       "      <td>0</td>\n",
       "      <td>8</td>\n",
       "      <td>5080</td>\n",
       "      <td>More than 1</td>\n",
       "      <td>A</td>\n",
       "      <td>Platinum</td>\n",
       "      <td>515400.0</td>\n",
       "    </tr>\n",
       "    <tr>\n",
       "      <th>2</th>\n",
       "      <td>3</td>\n",
       "      <td>Male</td>\n",
       "      <td>Urban</td>\n",
       "      <td>Bachelor</td>\n",
       "      <td>5L-10L</td>\n",
       "      <td>1</td>\n",
       "      <td>8</td>\n",
       "      <td>2599</td>\n",
       "      <td>More than 1</td>\n",
       "      <td>A</td>\n",
       "      <td>Platinum</td>\n",
       "      <td>64212.0</td>\n",
       "    </tr>\n",
       "    <tr>\n",
       "      <th>3</th>\n",
       "      <td>4</td>\n",
       "      <td>Female</td>\n",
       "      <td>Rural</td>\n",
       "      <td>High School</td>\n",
       "      <td>5L-10L</td>\n",
       "      <td>0</td>\n",
       "      <td>7</td>\n",
       "      <td>0</td>\n",
       "      <td>More than 1</td>\n",
       "      <td>A</td>\n",
       "      <td>Platinum</td>\n",
       "      <td>97920.0</td>\n",
       "    </tr>\n",
       "    <tr>\n",
       "      <th>4</th>\n",
       "      <td>5</td>\n",
       "      <td>Male</td>\n",
       "      <td>Urban</td>\n",
       "      <td>High School</td>\n",
       "      <td>More than 10L</td>\n",
       "      <td>1</td>\n",
       "      <td>6</td>\n",
       "      <td>3508</td>\n",
       "      <td>More than 1</td>\n",
       "      <td>A</td>\n",
       "      <td>Gold</td>\n",
       "      <td>59736.0</td>\n",
       "    </tr>\n",
       "  </tbody>\n",
       "</table>\n",
       "</div>"
      ],
      "text/plain": [
       "   id  gender   area qualification         income  marital_status  vintage  \\\n",
       "0   1    Male  Urban      Bachelor         5L-10L               1        5   \n",
       "1   2    Male  Rural   High School         5L-10L               0        8   \n",
       "2   3    Male  Urban      Bachelor         5L-10L               1        8   \n",
       "3   4  Female  Rural   High School         5L-10L               0        7   \n",
       "4   5    Male  Urban   High School  More than 10L               1        6   \n",
       "\n",
       "   claim_amount num_policies policy type_of_policy      cltv  \n",
       "0          5790  More than 1      A       Platinum   64308.0  \n",
       "1          5080  More than 1      A       Platinum  515400.0  \n",
       "2          2599  More than 1      A       Platinum   64212.0  \n",
       "3             0  More than 1      A       Platinum   97920.0  \n",
       "4          3508  More than 1      A           Gold   59736.0  "
      ]
     },
     "execution_count": 5,
     "metadata": {},
     "output_type": "execute_result"
    }
   ],
   "source": [
    "#concatenate both dataframes\n",
    "df = pd.concat([train,test],axis=0)\n",
    "df.reset_index(drop=True,inplace=True)\n",
    "df.head()"
   ]
  },
  {
   "cell_type": "code",
   "execution_count": 6,
   "id": "da1c87d7",
   "metadata": {},
   "outputs": [
    {
     "data": {
      "text/html": [
       "<div>\n",
       "<style scoped>\n",
       "    .dataframe tbody tr th:only-of-type {\n",
       "        vertical-align: middle;\n",
       "    }\n",
       "\n",
       "    .dataframe tbody tr th {\n",
       "        vertical-align: top;\n",
       "    }\n",
       "\n",
       "    .dataframe thead th {\n",
       "        text-align: right;\n",
       "    }\n",
       "</style>\n",
       "<table border=\"1\" class=\"dataframe\">\n",
       "  <thead>\n",
       "    <tr style=\"text-align: right;\">\n",
       "      <th></th>\n",
       "      <th>id</th>\n",
       "      <th>gender</th>\n",
       "      <th>area</th>\n",
       "      <th>qualification</th>\n",
       "      <th>income</th>\n",
       "      <th>marital_status</th>\n",
       "      <th>vintage</th>\n",
       "      <th>claim_amount</th>\n",
       "      <th>num_policies</th>\n",
       "      <th>policy</th>\n",
       "      <th>type_of_policy</th>\n",
       "      <th>cltv</th>\n",
       "    </tr>\n",
       "  </thead>\n",
       "  <tbody>\n",
       "    <tr>\n",
       "      <th>148982</th>\n",
       "      <td>148983</td>\n",
       "      <td>Male</td>\n",
       "      <td>Rural</td>\n",
       "      <td>Bachelor</td>\n",
       "      <td>5L-10L</td>\n",
       "      <td>1</td>\n",
       "      <td>6</td>\n",
       "      <td>0</td>\n",
       "      <td>1</td>\n",
       "      <td>A</td>\n",
       "      <td>Silver</td>\n",
       "      <td>NaN</td>\n",
       "    </tr>\n",
       "    <tr>\n",
       "      <th>148983</th>\n",
       "      <td>148984</td>\n",
       "      <td>Male</td>\n",
       "      <td>Urban</td>\n",
       "      <td>High School</td>\n",
       "      <td>5L-10L</td>\n",
       "      <td>0</td>\n",
       "      <td>6</td>\n",
       "      <td>0</td>\n",
       "      <td>1</td>\n",
       "      <td>C</td>\n",
       "      <td>Gold</td>\n",
       "      <td>NaN</td>\n",
       "    </tr>\n",
       "    <tr>\n",
       "      <th>148984</th>\n",
       "      <td>148985</td>\n",
       "      <td>Female</td>\n",
       "      <td>Urban</td>\n",
       "      <td>High School</td>\n",
       "      <td>2L-5L</td>\n",
       "      <td>1</td>\n",
       "      <td>4</td>\n",
       "      <td>3323</td>\n",
       "      <td>More than 1</td>\n",
       "      <td>B</td>\n",
       "      <td>Platinum</td>\n",
       "      <td>NaN</td>\n",
       "    </tr>\n",
       "    <tr>\n",
       "      <th>148985</th>\n",
       "      <td>148986</td>\n",
       "      <td>Male</td>\n",
       "      <td>Rural</td>\n",
       "      <td>Bachelor</td>\n",
       "      <td>5L-10L</td>\n",
       "      <td>0</td>\n",
       "      <td>1</td>\n",
       "      <td>2886</td>\n",
       "      <td>More than 1</td>\n",
       "      <td>A</td>\n",
       "      <td>Silver</td>\n",
       "      <td>NaN</td>\n",
       "    </tr>\n",
       "    <tr>\n",
       "      <th>148986</th>\n",
       "      <td>148987</td>\n",
       "      <td>Female</td>\n",
       "      <td>Urban</td>\n",
       "      <td>Bachelor</td>\n",
       "      <td>5L-10L</td>\n",
       "      <td>1</td>\n",
       "      <td>4</td>\n",
       "      <td>5939</td>\n",
       "      <td>More than 1</td>\n",
       "      <td>B</td>\n",
       "      <td>Platinum</td>\n",
       "      <td>NaN</td>\n",
       "    </tr>\n",
       "  </tbody>\n",
       "</table>\n",
       "</div>"
      ],
      "text/plain": [
       "            id  gender   area qualification  income  marital_status  vintage  \\\n",
       "148982  148983    Male  Rural      Bachelor  5L-10L               1        6   \n",
       "148983  148984    Male  Urban   High School  5L-10L               0        6   \n",
       "148984  148985  Female  Urban   High School   2L-5L               1        4   \n",
       "148985  148986    Male  Rural      Bachelor  5L-10L               0        1   \n",
       "148986  148987  Female  Urban      Bachelor  5L-10L               1        4   \n",
       "\n",
       "        claim_amount num_policies policy type_of_policy  cltv  \n",
       "148982             0            1      A         Silver   NaN  \n",
       "148983             0            1      C           Gold   NaN  \n",
       "148984          3323  More than 1      B       Platinum   NaN  \n",
       "148985          2886  More than 1      A         Silver   NaN  \n",
       "148986          5939  More than 1      B       Platinum   NaN  "
      ]
     },
     "execution_count": 6,
     "metadata": {},
     "output_type": "execute_result"
    }
   ],
   "source": [
    "df.tail()"
   ]
  },
  {
   "cell_type": "code",
   "execution_count": 7,
   "id": "5ee6d00b",
   "metadata": {},
   "outputs": [
    {
     "name": "stdout",
     "output_type": "stream",
     "text": [
      "89392 59595 148987\n"
     ]
    }
   ],
   "source": [
    "print(len(train),len(test),len(df))"
   ]
  },
  {
   "cell_type": "markdown",
   "id": "87ef2dde",
   "metadata": {},
   "source": [
    "## Data Understanding"
   ]
  },
  {
   "cell_type": "code",
   "execution_count": 8,
   "id": "c5695c80",
   "metadata": {},
   "outputs": [
    {
     "name": "stdout",
     "output_type": "stream",
     "text": [
      "<class 'pandas.core.frame.DataFrame'>\n",
      "RangeIndex: 148987 entries, 0 to 148986\n",
      "Data columns (total 12 columns):\n",
      " #   Column          Non-Null Count   Dtype  \n",
      "---  ------          --------------   -----  \n",
      " 0   id              148987 non-null  int64  \n",
      " 1   gender          148987 non-null  object \n",
      " 2   area            148987 non-null  object \n",
      " 3   qualification   148987 non-null  object \n",
      " 4   income          148987 non-null  object \n",
      " 5   marital_status  148987 non-null  int64  \n",
      " 6   vintage         148987 non-null  int64  \n",
      " 7   claim_amount    148987 non-null  int64  \n",
      " 8   num_policies    148987 non-null  object \n",
      " 9   policy          148987 non-null  object \n",
      " 10  type_of_policy  148987 non-null  object \n",
      " 11  cltv            89392 non-null   float64\n",
      "dtypes: float64(1), int64(4), object(7)\n",
      "memory usage: 13.6+ MB\n"
     ]
    }
   ],
   "source": [
    "df.info() #summary of the dataframe"
   ]
  },
  {
   "cell_type": "code",
   "execution_count": 9,
   "id": "53defadd",
   "metadata": {},
   "outputs": [
    {
     "data": {
      "text/plain": [
       "id                  int64\n",
       "gender             object\n",
       "area               object\n",
       "qualification      object\n",
       "income             object\n",
       "marital_status      int64\n",
       "vintage             int64\n",
       "claim_amount        int64\n",
       "num_policies       object\n",
       "policy             object\n",
       "type_of_policy     object\n",
       "cltv              float64\n",
       "dtype: object"
      ]
     },
     "execution_count": 9,
     "metadata": {},
     "output_type": "execute_result"
    }
   ],
   "source": [
    "df.dtypes #returns the datatype of each column"
   ]
  },
  {
   "cell_type": "code",
   "execution_count": 10,
   "id": "073a08de",
   "metadata": {},
   "outputs": [
    {
     "data": {
      "text/plain": [
       "id                    0\n",
       "gender                0\n",
       "area                  0\n",
       "qualification         0\n",
       "income                0\n",
       "marital_status        0\n",
       "vintage               0\n",
       "claim_amount          0\n",
       "num_policies          0\n",
       "policy                0\n",
       "type_of_policy        0\n",
       "cltv              59595\n",
       "dtype: int64"
      ]
     },
     "execution_count": 10,
     "metadata": {},
     "output_type": "execute_result"
    }
   ],
   "source": [
    "df.isna().sum() #to check if the dataset contains any null or missing values"
   ]
  },
  {
   "cell_type": "code",
   "execution_count": 11,
   "id": "2a4ef7c9",
   "metadata": {},
   "outputs": [
    {
     "data": {
      "text/plain": [
       "(148987, 12)"
      ]
     },
     "execution_count": 11,
     "metadata": {},
     "output_type": "execute_result"
    }
   ],
   "source": [
    "df.shape #to find the number of rows and columns"
   ]
  },
  {
   "cell_type": "code",
   "execution_count": 12,
   "id": "8cf6f711",
   "metadata": {},
   "outputs": [
    {
     "data": {
      "text/html": [
       "<div>\n",
       "<style scoped>\n",
       "    .dataframe tbody tr th:only-of-type {\n",
       "        vertical-align: middle;\n",
       "    }\n",
       "\n",
       "    .dataframe tbody tr th {\n",
       "        vertical-align: top;\n",
       "    }\n",
       "\n",
       "    .dataframe thead th {\n",
       "        text-align: right;\n",
       "    }\n",
       "</style>\n",
       "<table border=\"1\" class=\"dataframe\">\n",
       "  <thead>\n",
       "    <tr style=\"text-align: right;\">\n",
       "      <th></th>\n",
       "      <th>id</th>\n",
       "      <th>gender</th>\n",
       "      <th>area</th>\n",
       "      <th>qualification</th>\n",
       "      <th>income</th>\n",
       "      <th>marital_status</th>\n",
       "      <th>vintage</th>\n",
       "      <th>claim_amount</th>\n",
       "      <th>num_policies</th>\n",
       "      <th>policy</th>\n",
       "      <th>type_of_policy</th>\n",
       "      <th>cltv</th>\n",
       "    </tr>\n",
       "  </thead>\n",
       "  <tbody>\n",
       "    <tr>\n",
       "      <th>count</th>\n",
       "      <td>148987.000000</td>\n",
       "      <td>148987</td>\n",
       "      <td>148987</td>\n",
       "      <td>148987</td>\n",
       "      <td>148987</td>\n",
       "      <td>148987.000000</td>\n",
       "      <td>148987.000000</td>\n",
       "      <td>148987.000000</td>\n",
       "      <td>148987</td>\n",
       "      <td>148987</td>\n",
       "      <td>148987</td>\n",
       "      <td>89392.000000</td>\n",
       "    </tr>\n",
       "    <tr>\n",
       "      <th>unique</th>\n",
       "      <td>NaN</td>\n",
       "      <td>2</td>\n",
       "      <td>2</td>\n",
       "      <td>3</td>\n",
       "      <td>4</td>\n",
       "      <td>NaN</td>\n",
       "      <td>NaN</td>\n",
       "      <td>NaN</td>\n",
       "      <td>2</td>\n",
       "      <td>3</td>\n",
       "      <td>3</td>\n",
       "      <td>NaN</td>\n",
       "    </tr>\n",
       "    <tr>\n",
       "      <th>top</th>\n",
       "      <td>NaN</td>\n",
       "      <td>Male</td>\n",
       "      <td>Urban</td>\n",
       "      <td>High School</td>\n",
       "      <td>5L-10L</td>\n",
       "      <td>NaN</td>\n",
       "      <td>NaN</td>\n",
       "      <td>NaN</td>\n",
       "      <td>More than 1</td>\n",
       "      <td>A</td>\n",
       "      <td>Platinum</td>\n",
       "      <td>NaN</td>\n",
       "    </tr>\n",
       "    <tr>\n",
       "      <th>freq</th>\n",
       "      <td>NaN</td>\n",
       "      <td>84138</td>\n",
       "      <td>103896</td>\n",
       "      <td>77082</td>\n",
       "      <td>87804</td>\n",
       "      <td>NaN</td>\n",
       "      <td>NaN</td>\n",
       "      <td>NaN</td>\n",
       "      <td>100571</td>\n",
       "      <td>94515</td>\n",
       "      <td>79704</td>\n",
       "      <td>NaN</td>\n",
       "    </tr>\n",
       "    <tr>\n",
       "      <th>mean</th>\n",
       "      <td>74494.000000</td>\n",
       "      <td>NaN</td>\n",
       "      <td>NaN</td>\n",
       "      <td>NaN</td>\n",
       "      <td>NaN</td>\n",
       "      <td>0.576064</td>\n",
       "      <td>4.605523</td>\n",
       "      <td>4358.303201</td>\n",
       "      <td>NaN</td>\n",
       "      <td>NaN</td>\n",
       "      <td>NaN</td>\n",
       "      <td>97952.828978</td>\n",
       "    </tr>\n",
       "    <tr>\n",
       "      <th>std</th>\n",
       "      <td>43008.986615</td>\n",
       "      <td>NaN</td>\n",
       "      <td>NaN</td>\n",
       "      <td>NaN</td>\n",
       "      <td>NaN</td>\n",
       "      <td>0.494182</td>\n",
       "      <td>2.287299</td>\n",
       "      <td>3272.692800</td>\n",
       "      <td>NaN</td>\n",
       "      <td>NaN</td>\n",
       "      <td>NaN</td>\n",
       "      <td>90613.814793</td>\n",
       "    </tr>\n",
       "    <tr>\n",
       "      <th>min</th>\n",
       "      <td>1.000000</td>\n",
       "      <td>NaN</td>\n",
       "      <td>NaN</td>\n",
       "      <td>NaN</td>\n",
       "      <td>NaN</td>\n",
       "      <td>0.000000</td>\n",
       "      <td>0.000000</td>\n",
       "      <td>0.000000</td>\n",
       "      <td>NaN</td>\n",
       "      <td>NaN</td>\n",
       "      <td>NaN</td>\n",
       "      <td>24828.000000</td>\n",
       "    </tr>\n",
       "    <tr>\n",
       "      <th>25%</th>\n",
       "      <td>37247.500000</td>\n",
       "      <td>NaN</td>\n",
       "      <td>NaN</td>\n",
       "      <td>NaN</td>\n",
       "      <td>NaN</td>\n",
       "      <td>0.000000</td>\n",
       "      <td>3.000000</td>\n",
       "      <td>2402.000000</td>\n",
       "      <td>NaN</td>\n",
       "      <td>NaN</td>\n",
       "      <td>NaN</td>\n",
       "      <td>52836.000000</td>\n",
       "    </tr>\n",
       "    <tr>\n",
       "      <th>50%</th>\n",
       "      <td>74494.000000</td>\n",
       "      <td>NaN</td>\n",
       "      <td>NaN</td>\n",
       "      <td>NaN</td>\n",
       "      <td>NaN</td>\n",
       "      <td>1.000000</td>\n",
       "      <td>5.000000</td>\n",
       "      <td>4095.000000</td>\n",
       "      <td>NaN</td>\n",
       "      <td>NaN</td>\n",
       "      <td>NaN</td>\n",
       "      <td>66396.000000</td>\n",
       "    </tr>\n",
       "    <tr>\n",
       "      <th>75%</th>\n",
       "      <td>111740.500000</td>\n",
       "      <td>NaN</td>\n",
       "      <td>NaN</td>\n",
       "      <td>NaN</td>\n",
       "      <td>NaN</td>\n",
       "      <td>1.000000</td>\n",
       "      <td>6.000000</td>\n",
       "      <td>6098.000000</td>\n",
       "      <td>NaN</td>\n",
       "      <td>NaN</td>\n",
       "      <td>NaN</td>\n",
       "      <td>103440.000000</td>\n",
       "    </tr>\n",
       "    <tr>\n",
       "      <th>max</th>\n",
       "      <td>148987.000000</td>\n",
       "      <td>NaN</td>\n",
       "      <td>NaN</td>\n",
       "      <td>NaN</td>\n",
       "      <td>NaN</td>\n",
       "      <td>1.000000</td>\n",
       "      <td>8.000000</td>\n",
       "      <td>32534.000000</td>\n",
       "      <td>NaN</td>\n",
       "      <td>NaN</td>\n",
       "      <td>NaN</td>\n",
       "      <td>724068.000000</td>\n",
       "    </tr>\n",
       "  </tbody>\n",
       "</table>\n",
       "</div>"
      ],
      "text/plain": [
       "                   id  gender    area qualification  income  marital_status  \\\n",
       "count   148987.000000  148987  148987        148987  148987   148987.000000   \n",
       "unique            NaN       2       2             3       4             NaN   \n",
       "top               NaN    Male   Urban   High School  5L-10L             NaN   \n",
       "freq              NaN   84138  103896         77082   87804             NaN   \n",
       "mean     74494.000000     NaN     NaN           NaN     NaN        0.576064   \n",
       "std      43008.986615     NaN     NaN           NaN     NaN        0.494182   \n",
       "min          1.000000     NaN     NaN           NaN     NaN        0.000000   \n",
       "25%      37247.500000     NaN     NaN           NaN     NaN        0.000000   \n",
       "50%      74494.000000     NaN     NaN           NaN     NaN        1.000000   \n",
       "75%     111740.500000     NaN     NaN           NaN     NaN        1.000000   \n",
       "max     148987.000000     NaN     NaN           NaN     NaN        1.000000   \n",
       "\n",
       "              vintage   claim_amount num_policies  policy type_of_policy  \\\n",
       "count   148987.000000  148987.000000       148987  148987         148987   \n",
       "unique            NaN            NaN            2       3              3   \n",
       "top               NaN            NaN  More than 1       A       Platinum   \n",
       "freq              NaN            NaN       100571   94515          79704   \n",
       "mean         4.605523    4358.303201          NaN     NaN            NaN   \n",
       "std          2.287299    3272.692800          NaN     NaN            NaN   \n",
       "min          0.000000       0.000000          NaN     NaN            NaN   \n",
       "25%          3.000000    2402.000000          NaN     NaN            NaN   \n",
       "50%          5.000000    4095.000000          NaN     NaN            NaN   \n",
       "75%          6.000000    6098.000000          NaN     NaN            NaN   \n",
       "max          8.000000   32534.000000          NaN     NaN            NaN   \n",
       "\n",
       "                 cltv  \n",
       "count    89392.000000  \n",
       "unique            NaN  \n",
       "top               NaN  \n",
       "freq              NaN  \n",
       "mean     97952.828978  \n",
       "std      90613.814793  \n",
       "min      24828.000000  \n",
       "25%      52836.000000  \n",
       "50%      66396.000000  \n",
       "75%     103440.000000  \n",
       "max     724068.000000  "
      ]
     },
     "execution_count": 12,
     "metadata": {},
     "output_type": "execute_result"
    }
   ],
   "source": [
    "df.describe(include='all') #to get the complete descriptive statistics."
   ]
  },
  {
   "cell_type": "code",
   "execution_count": 13,
   "id": "27d4d913",
   "metadata": {},
   "outputs": [
    {
     "data": {
      "text/plain": [
       "Index(['id', 'gender', 'area', 'qualification', 'income', 'marital_status',\n",
       "       'vintage', 'claim_amount', 'num_policies', 'policy', 'type_of_policy',\n",
       "       'cltv'],\n",
       "      dtype='object')"
      ]
     },
     "execution_count": 13,
     "metadata": {},
     "output_type": "execute_result"
    }
   ],
   "source": [
    "df.columns #returns all of the column labels of the given dataframe."
   ]
  },
  {
   "cell_type": "code",
   "execution_count": 14,
   "id": "8b538926",
   "metadata": {},
   "outputs": [
    {
     "data": {
      "image/png": "[encoded data removed]",
      "text/plain": [
       "<Figure size 432x288 with 2 Axes>"
      ]
     },
     "metadata": {
      "needs_background": "light"
     },
     "output_type": "display_data"
    }
   ],
   "source": [
    "sns.heatmap(df.isna(),yticklabels=False,cbar=True) #heatmap to identify the features having null values.\n",
    "plt.show()"
   ]
  },
  {
   "cell_type": "markdown",
   "id": "6aa31ee8",
   "metadata": {},
   "source": [
    "### Checking Outliers "
   ]
  },
  {
   "cell_type": "code",
   "execution_count": 15,
   "id": "44792bd2",
   "metadata": {},
   "outputs": [
    {
     "data": {
      "text/plain": [
       "<AxesSubplot:>"
      ]
     },
     "execution_count": 15,
     "metadata": {},
     "output_type": "execute_result"
    },
    {
     "data": {
      "image/png": "[encoded data removed]",
      "text/plain": [
       "<Figure size 432x288 with 1 Axes>"
      ]
     },
     "metadata": {
      "needs_background": "light"
     },
     "output_type": "display_data"
    }
   ],
   "source": [
    "sns.boxplot(data=df['claim_amount']) #boxplot to check the outliers"
   ]
  },
  {
   "cell_type": "markdown",
   "id": "49032a60",
   "metadata": {},
   "source": [
    "### Removing Outliers"
   ]
  },
  {
   "cell_type": "code",
   "execution_count": 16,
   "id": "26a2bf00",
   "metadata": {},
   "outputs": [],
   "source": [
    "#using iqr method to determine outliers\n",
    "def outliers(df,claim_amount):\n",
    "    q1=df[claim_amount].quantile(0.25)\n",
    "    q3=df[claim_amount].quantile(0.75)\n",
    "    iqr=q3-q1\n",
    "    lower_limit=q1-1.5*(iqr)\n",
    "    upper_limit=q1+1.5*(iqr)\n",
    "    df[claim_amount]=np.where(df[claim_amount]>upper_limit,upper_limit,df[claim_amount])\n",
    "    df[claim_amount]=np.where(df[claim_amount]<lower_limit,upper_limit,df[claim_amount])"
   ]
  },
  {
   "cell_type": "code",
   "execution_count": 17,
   "id": "b1d6af6b",
   "metadata": {},
   "outputs": [
    {
     "data": {
      "text/plain": [
       "<AxesSubplot:>"
      ]
     },
     "execution_count": 17,
     "metadata": {},
     "output_type": "execute_result"
    },
    {
     "data": {
      "image/png": "[encoded data removed]",
      "text/plain": [
       "<Figure size 432x288 with 1 Axes>"
      ]
     },
     "metadata": {
      "needs_background": "light"
     },
     "output_type": "display_data"
    }
   ],
   "source": [
    "outliers(df,'claim_amount')\n",
    "sns.boxplot(data=df['claim_amount'])"
   ]
  },
  {
   "cell_type": "markdown",
   "id": "530c84e7",
   "metadata": {},
   "source": [
    "## Exploratory Data Analysis"
   ]
  },
  {
   "cell_type": "code",
   "execution_count": 18,
   "id": "e173691b",
   "metadata": {},
   "outputs": [
    {
     "name": "stdout",
     "output_type": "stream",
     "text": [
      "Gender: ['Male' 'Female']\n",
      "Area: ['Urban' 'Rural']\n",
      "Qualification: ['Bachelor' 'High School' 'Others']\n",
      "Income: ['5L-10L' 'More than 10L' '2L-5L' '<=2L']\n",
      "Marital_status: [1 0]\n",
      "Vintage: [5 8 7 6 1 0 3 4 2]\n",
      "Num_policies: ['More than 1' '1']\n",
      "Policy: ['A' 'C' 'B']\n",
      "Type_of_policy: ['Platinum' 'Gold' 'Silver']\n"
     ]
    }
   ],
   "source": [
    "#unique values of all the features\n",
    "print('Gender:',df['gender'].unique())\n",
    "print('Area:',df['area'].unique())\n",
    "print('Qualification:',df['qualification'].unique())\n",
    "print('Income:',df['income'].unique())\n",
    "print('Marital_status:',df['marital_status'].unique())\n",
    "print('Vintage:',df['vintage'].unique())\n",
    "print('Num_policies:',df['num_policies'].unique())\n",
    "print('Policy:',df['policy'].unique())\n",
    "print('Type_of_policy:',df['type_of_policy'].unique())"
   ]
  },
  {
   "cell_type": "code",
   "execution_count": 19,
   "id": "3ad22d75",
   "metadata": {},
   "outputs": [],
   "source": [
    "df['income']=df['income'].map({'<=2L':0,'2L-5L':1,'5L-10L':2,'More than 10L':3})"
   ]
  },
  {
   "cell_type": "code",
   "execution_count": 20,
   "id": "2813eabd",
   "metadata": {},
   "outputs": [
    {
     "data": {
      "text/plain": [
       "array([2, 3, 1, 0], dtype=int64)"
      ]
     },
     "execution_count": 20,
     "metadata": {},
     "output_type": "execute_result"
    }
   ],
   "source": [
    "df['income'].unique()"
   ]
  },
  {
   "cell_type": "code",
   "execution_count": 21,
   "id": "7704516d",
   "metadata": {},
   "outputs": [],
   "source": [
    "df['num_policies']=df['num_policies'].map({'1':0,'More than 1':1})"
   ]
  },
  {
   "cell_type": "code",
   "execution_count": 22,
   "id": "8ab8c761",
   "metadata": {},
   "outputs": [
    {
     "data": {
      "text/plain": [
       "array([1, 0], dtype=int64)"
      ]
     },
     "execution_count": 22,
     "metadata": {},
     "output_type": "execute_result"
    }
   ],
   "source": [
    "df['num_policies'].unique()"
   ]
  },
  {
   "cell_type": "code",
   "execution_count": 23,
   "id": "2aeba22f",
   "metadata": {},
   "outputs": [
    {
     "data": {
      "text/html": [
       "<div>\n",
       "<style scoped>\n",
       "    .dataframe tbody tr th:only-of-type {\n",
       "        vertical-align: middle;\n",
       "    }\n",
       "\n",
       "    .dataframe tbody tr th {\n",
       "        vertical-align: top;\n",
       "    }\n",
       "\n",
       "    .dataframe thead th {\n",
       "        text-align: right;\n",
       "    }\n",
       "</style>\n",
       "<table border=\"1\" class=\"dataframe\">\n",
       "  <thead>\n",
       "    <tr style=\"text-align: right;\">\n",
       "      <th></th>\n",
       "      <th>id</th>\n",
       "      <th>gender</th>\n",
       "      <th>area</th>\n",
       "      <th>qualification</th>\n",
       "      <th>income</th>\n",
       "      <th>marital_status</th>\n",
       "      <th>vintage</th>\n",
       "      <th>claim_amount</th>\n",
       "      <th>num_policies</th>\n",
       "      <th>policy</th>\n",
       "      <th>type_of_policy</th>\n",
       "      <th>cltv</th>\n",
       "    </tr>\n",
       "  </thead>\n",
       "  <tbody>\n",
       "    <tr>\n",
       "      <th>0</th>\n",
       "      <td>1</td>\n",
       "      <td>Male</td>\n",
       "      <td>Urban</td>\n",
       "      <td>Bachelor</td>\n",
       "      <td>2</td>\n",
       "      <td>1</td>\n",
       "      <td>5</td>\n",
       "      <td>5790.0</td>\n",
       "      <td>1</td>\n",
       "      <td>A</td>\n",
       "      <td>Platinum</td>\n",
       "      <td>64308.0</td>\n",
       "    </tr>\n",
       "    <tr>\n",
       "      <th>1</th>\n",
       "      <td>2</td>\n",
       "      <td>Male</td>\n",
       "      <td>Rural</td>\n",
       "      <td>High School</td>\n",
       "      <td>2</td>\n",
       "      <td>0</td>\n",
       "      <td>8</td>\n",
       "      <td>5080.0</td>\n",
       "      <td>1</td>\n",
       "      <td>A</td>\n",
       "      <td>Platinum</td>\n",
       "      <td>515400.0</td>\n",
       "    </tr>\n",
       "    <tr>\n",
       "      <th>2</th>\n",
       "      <td>3</td>\n",
       "      <td>Male</td>\n",
       "      <td>Urban</td>\n",
       "      <td>Bachelor</td>\n",
       "      <td>2</td>\n",
       "      <td>1</td>\n",
       "      <td>8</td>\n",
       "      <td>2599.0</td>\n",
       "      <td>1</td>\n",
       "      <td>A</td>\n",
       "      <td>Platinum</td>\n",
       "      <td>64212.0</td>\n",
       "    </tr>\n",
       "    <tr>\n",
       "      <th>3</th>\n",
       "      <td>4</td>\n",
       "      <td>Female</td>\n",
       "      <td>Rural</td>\n",
       "      <td>High School</td>\n",
       "      <td>2</td>\n",
       "      <td>0</td>\n",
       "      <td>7</td>\n",
       "      <td>0.0</td>\n",
       "      <td>1</td>\n",
       "      <td>A</td>\n",
       "      <td>Platinum</td>\n",
       "      <td>97920.0</td>\n",
       "    </tr>\n",
       "    <tr>\n",
       "      <th>4</th>\n",
       "      <td>5</td>\n",
       "      <td>Male</td>\n",
       "      <td>Urban</td>\n",
       "      <td>High School</td>\n",
       "      <td>3</td>\n",
       "      <td>1</td>\n",
       "      <td>6</td>\n",
       "      <td>3508.0</td>\n",
       "      <td>1</td>\n",
       "      <td>A</td>\n",
       "      <td>Gold</td>\n",
       "      <td>59736.0</td>\n",
       "    </tr>\n",
       "    <tr>\n",
       "      <th>...</th>\n",
       "      <td>...</td>\n",
       "      <td>...</td>\n",
       "      <td>...</td>\n",
       "      <td>...</td>\n",
       "      <td>...</td>\n",
       "      <td>...</td>\n",
       "      <td>...</td>\n",
       "      <td>...</td>\n",
       "      <td>...</td>\n",
       "      <td>...</td>\n",
       "      <td>...</td>\n",
       "      <td>...</td>\n",
       "    </tr>\n",
       "    <tr>\n",
       "      <th>148982</th>\n",
       "      <td>148983</td>\n",
       "      <td>Male</td>\n",
       "      <td>Rural</td>\n",
       "      <td>Bachelor</td>\n",
       "      <td>2</td>\n",
       "      <td>1</td>\n",
       "      <td>6</td>\n",
       "      <td>0.0</td>\n",
       "      <td>0</td>\n",
       "      <td>A</td>\n",
       "      <td>Silver</td>\n",
       "      <td>NaN</td>\n",
       "    </tr>\n",
       "    <tr>\n",
       "      <th>148983</th>\n",
       "      <td>148984</td>\n",
       "      <td>Male</td>\n",
       "      <td>Urban</td>\n",
       "      <td>High School</td>\n",
       "      <td>2</td>\n",
       "      <td>0</td>\n",
       "      <td>6</td>\n",
       "      <td>0.0</td>\n",
       "      <td>0</td>\n",
       "      <td>C</td>\n",
       "      <td>Gold</td>\n",
       "      <td>NaN</td>\n",
       "    </tr>\n",
       "    <tr>\n",
       "      <th>148984</th>\n",
       "      <td>148985</td>\n",
       "      <td>Female</td>\n",
       "      <td>Urban</td>\n",
       "      <td>High School</td>\n",
       "      <td>1</td>\n",
       "      <td>1</td>\n",
       "      <td>4</td>\n",
       "      <td>3323.0</td>\n",
       "      <td>1</td>\n",
       "      <td>B</td>\n",
       "      <td>Platinum</td>\n",
       "      <td>NaN</td>\n",
       "    </tr>\n",
       "    <tr>\n",
       "      <th>148985</th>\n",
       "      <td>148986</td>\n",
       "      <td>Male</td>\n",
       "      <td>Rural</td>\n",
       "      <td>Bachelor</td>\n",
       "      <td>2</td>\n",
       "      <td>0</td>\n",
       "      <td>1</td>\n",
       "      <td>2886.0</td>\n",
       "      <td>1</td>\n",
       "      <td>A</td>\n",
       "      <td>Silver</td>\n",
       "      <td>NaN</td>\n",
       "    </tr>\n",
       "    <tr>\n",
       "      <th>148986</th>\n",
       "      <td>148987</td>\n",
       "      <td>Female</td>\n",
       "      <td>Urban</td>\n",
       "      <td>Bachelor</td>\n",
       "      <td>2</td>\n",
       "      <td>1</td>\n",
       "      <td>4</td>\n",
       "      <td>5939.0</td>\n",
       "      <td>1</td>\n",
       "      <td>B</td>\n",
       "      <td>Platinum</td>\n",
       "      <td>NaN</td>\n",
       "    </tr>\n",
       "  </tbody>\n",
       "</table>\n",
       "<p>148987 rows × 12 columns</p>\n",
       "</div>"
      ],
      "text/plain": [
       "            id  gender   area qualification  income  marital_status  vintage  \\\n",
       "0            1    Male  Urban      Bachelor       2               1        5   \n",
       "1            2    Male  Rural   High School       2               0        8   \n",
       "2            3    Male  Urban      Bachelor       2               1        8   \n",
       "3            4  Female  Rural   High School       2               0        7   \n",
       "4            5    Male  Urban   High School       3               1        6   \n",
       "...        ...     ...    ...           ...     ...             ...      ...   \n",
       "148982  148983    Male  Rural      Bachelor       2               1        6   \n",
       "148983  148984    Male  Urban   High School       2               0        6   \n",
       "148984  148985  Female  Urban   High School       1               1        4   \n",
       "148985  148986    Male  Rural      Bachelor       2               0        1   \n",
       "148986  148987  Female  Urban      Bachelor       2               1        4   \n",
       "\n",
       "        claim_amount  num_policies policy type_of_policy      cltv  \n",
       "0             5790.0             1      A       Platinum   64308.0  \n",
       "1             5080.0             1      A       Platinum  515400.0  \n",
       "2             2599.0             1      A       Platinum   64212.0  \n",
       "3                0.0             1      A       Platinum   97920.0  \n",
       "4             3508.0             1      A           Gold   59736.0  \n",
       "...              ...           ...    ...            ...       ...  \n",
       "148982           0.0             0      A         Silver       NaN  \n",
       "148983           0.0             0      C           Gold       NaN  \n",
       "148984        3323.0             1      B       Platinum       NaN  \n",
       "148985        2886.0             1      A         Silver       NaN  \n",
       "148986        5939.0             1      B       Platinum       NaN  \n",
       "\n",
       "[148987 rows x 12 columns]"
      ]
     },
     "execution_count": 23,
     "metadata": {},
     "output_type": "execute_result"
    }
   ],
   "source": [
    "df"
   ]
  },
  {
   "cell_type": "markdown",
   "id": "ea94b624",
   "metadata": {},
   "source": [
    "## Data Transformation"
   ]
  },
  {
   "cell_type": "code",
   "execution_count": 24,
   "id": "4afe797d",
   "metadata": {},
   "outputs": [
    {
     "data": {
      "text/html": [
       "<div>\n",
       "<style scoped>\n",
       "    .dataframe tbody tr th:only-of-type {\n",
       "        vertical-align: middle;\n",
       "    }\n",
       "\n",
       "    .dataframe tbody tr th {\n",
       "        vertical-align: top;\n",
       "    }\n",
       "\n",
       "    .dataframe thead th {\n",
       "        text-align: right;\n",
       "    }\n",
       "</style>\n",
       "<table border=\"1\" class=\"dataframe\">\n",
       "  <thead>\n",
       "    <tr style=\"text-align: right;\">\n",
       "      <th></th>\n",
       "      <th>id</th>\n",
       "      <th>gender</th>\n",
       "      <th>area</th>\n",
       "      <th>qualification</th>\n",
       "      <th>income</th>\n",
       "      <th>marital_status</th>\n",
       "      <th>vintage</th>\n",
       "      <th>claim_amount</th>\n",
       "      <th>num_policies</th>\n",
       "      <th>policy</th>\n",
       "      <th>type_of_policy</th>\n",
       "      <th>cltv</th>\n",
       "    </tr>\n",
       "  </thead>\n",
       "  <tbody>\n",
       "    <tr>\n",
       "      <th>0</th>\n",
       "      <td>1</td>\n",
       "      <td>1</td>\n",
       "      <td>1</td>\n",
       "      <td>0</td>\n",
       "      <td>2</td>\n",
       "      <td>1</td>\n",
       "      <td>5</td>\n",
       "      <td>5790.0</td>\n",
       "      <td>1</td>\n",
       "      <td>0</td>\n",
       "      <td>1</td>\n",
       "      <td>64308.0</td>\n",
       "    </tr>\n",
       "    <tr>\n",
       "      <th>1</th>\n",
       "      <td>2</td>\n",
       "      <td>1</td>\n",
       "      <td>0</td>\n",
       "      <td>1</td>\n",
       "      <td>2</td>\n",
       "      <td>0</td>\n",
       "      <td>8</td>\n",
       "      <td>5080.0</td>\n",
       "      <td>1</td>\n",
       "      <td>0</td>\n",
       "      <td>1</td>\n",
       "      <td>515400.0</td>\n",
       "    </tr>\n",
       "    <tr>\n",
       "      <th>2</th>\n",
       "      <td>3</td>\n",
       "      <td>1</td>\n",
       "      <td>1</td>\n",
       "      <td>0</td>\n",
       "      <td>2</td>\n",
       "      <td>1</td>\n",
       "      <td>8</td>\n",
       "      <td>2599.0</td>\n",
       "      <td>1</td>\n",
       "      <td>0</td>\n",
       "      <td>1</td>\n",
       "      <td>64212.0</td>\n",
       "    </tr>\n",
       "    <tr>\n",
       "      <th>3</th>\n",
       "      <td>4</td>\n",
       "      <td>0</td>\n",
       "      <td>0</td>\n",
       "      <td>1</td>\n",
       "      <td>2</td>\n",
       "      <td>0</td>\n",
       "      <td>7</td>\n",
       "      <td>0.0</td>\n",
       "      <td>1</td>\n",
       "      <td>0</td>\n",
       "      <td>1</td>\n",
       "      <td>97920.0</td>\n",
       "    </tr>\n",
       "    <tr>\n",
       "      <th>4</th>\n",
       "      <td>5</td>\n",
       "      <td>1</td>\n",
       "      <td>1</td>\n",
       "      <td>1</td>\n",
       "      <td>3</td>\n",
       "      <td>1</td>\n",
       "      <td>6</td>\n",
       "      <td>3508.0</td>\n",
       "      <td>1</td>\n",
       "      <td>0</td>\n",
       "      <td>0</td>\n",
       "      <td>59736.0</td>\n",
       "    </tr>\n",
       "    <tr>\n",
       "      <th>...</th>\n",
       "      <td>...</td>\n",
       "      <td>...</td>\n",
       "      <td>...</td>\n",
       "      <td>...</td>\n",
       "      <td>...</td>\n",
       "      <td>...</td>\n",
       "      <td>...</td>\n",
       "      <td>...</td>\n",
       "      <td>...</td>\n",
       "      <td>...</td>\n",
       "      <td>...</td>\n",
       "      <td>...</td>\n",
       "    </tr>\n",
       "    <tr>\n",
       "      <th>148982</th>\n",
       "      <td>148983</td>\n",
       "      <td>1</td>\n",
       "      <td>0</td>\n",
       "      <td>0</td>\n",
       "      <td>2</td>\n",
       "      <td>1</td>\n",
       "      <td>6</td>\n",
       "      <td>0.0</td>\n",
       "      <td>0</td>\n",
       "      <td>0</td>\n",
       "      <td>2</td>\n",
       "      <td>NaN</td>\n",
       "    </tr>\n",
       "    <tr>\n",
       "      <th>148983</th>\n",
       "      <td>148984</td>\n",
       "      <td>1</td>\n",
       "      <td>1</td>\n",
       "      <td>1</td>\n",
       "      <td>2</td>\n",
       "      <td>0</td>\n",
       "      <td>6</td>\n",
       "      <td>0.0</td>\n",
       "      <td>0</td>\n",
       "      <td>2</td>\n",
       "      <td>0</td>\n",
       "      <td>NaN</td>\n",
       "    </tr>\n",
       "    <tr>\n",
       "      <th>148984</th>\n",
       "      <td>148985</td>\n",
       "      <td>0</td>\n",
       "      <td>1</td>\n",
       "      <td>1</td>\n",
       "      <td>1</td>\n",
       "      <td>1</td>\n",
       "      <td>4</td>\n",
       "      <td>3323.0</td>\n",
       "      <td>1</td>\n",
       "      <td>1</td>\n",
       "      <td>1</td>\n",
       "      <td>NaN</td>\n",
       "    </tr>\n",
       "    <tr>\n",
       "      <th>148985</th>\n",
       "      <td>148986</td>\n",
       "      <td>1</td>\n",
       "      <td>0</td>\n",
       "      <td>0</td>\n",
       "      <td>2</td>\n",
       "      <td>0</td>\n",
       "      <td>1</td>\n",
       "      <td>2886.0</td>\n",
       "      <td>1</td>\n",
       "      <td>0</td>\n",
       "      <td>2</td>\n",
       "      <td>NaN</td>\n",
       "    </tr>\n",
       "    <tr>\n",
       "      <th>148986</th>\n",
       "      <td>148987</td>\n",
       "      <td>0</td>\n",
       "      <td>1</td>\n",
       "      <td>0</td>\n",
       "      <td>2</td>\n",
       "      <td>1</td>\n",
       "      <td>4</td>\n",
       "      <td>5939.0</td>\n",
       "      <td>1</td>\n",
       "      <td>1</td>\n",
       "      <td>1</td>\n",
       "      <td>NaN</td>\n",
       "    </tr>\n",
       "  </tbody>\n",
       "</table>\n",
       "<p>148987 rows × 12 columns</p>\n",
       "</div>"
      ],
      "text/plain": [
       "            id  gender  area  qualification  income  marital_status  vintage  \\\n",
       "0            1       1     1              0       2               1        5   \n",
       "1            2       1     0              1       2               0        8   \n",
       "2            3       1     1              0       2               1        8   \n",
       "3            4       0     0              1       2               0        7   \n",
       "4            5       1     1              1       3               1        6   \n",
       "...        ...     ...   ...            ...     ...             ...      ...   \n",
       "148982  148983       1     0              0       2               1        6   \n",
       "148983  148984       1     1              1       2               0        6   \n",
       "148984  148985       0     1              1       1               1        4   \n",
       "148985  148986       1     0              0       2               0        1   \n",
       "148986  148987       0     1              0       2               1        4   \n",
       "\n",
       "        claim_amount  num_policies  policy  type_of_policy      cltv  \n",
       "0             5790.0             1       0               1   64308.0  \n",
       "1             5080.0             1       0               1  515400.0  \n",
       "2             2599.0             1       0               1   64212.0  \n",
       "3                0.0             1       0               1   97920.0  \n",
       "4             3508.0             1       0               0   59736.0  \n",
       "...              ...           ...     ...             ...       ...  \n",
       "148982           0.0             0       0               2       NaN  \n",
       "148983           0.0             0       2               0       NaN  \n",
       "148984        3323.0             1       1               1       NaN  \n",
       "148985        2886.0             1       0               2       NaN  \n",
       "148986        5939.0             1       1               1       NaN  \n",
       "\n",
       "[148987 rows x 12 columns]"
      ]
     },
     "execution_count": 24,
     "metadata": {},
     "output_type": "execute_result"
    }
   ],
   "source": [
    "#using labelEncoder to transform the non numerical labels to numerical labels.\n",
    "le = LabelEncoder()\n",
    "df['gender'] = le.fit_transform(df['gender'])\n",
    "df['area'] = le.fit_transform(df['area'])\n",
    "df['qualification'] = le.fit_transform(df['qualification'])\n",
    "df['policy'] = le.fit_transform(df['policy'])\n",
    "df['type_of_policy'] = le.fit_transform(df['type_of_policy'])\n",
    "df"
   ]
  },
  {
   "cell_type": "markdown",
   "id": "3dd8aa0c",
   "metadata": {},
   "source": [
    "## Data Visualization"
   ]
  },
  {
   "cell_type": "code",
   "execution_count": 25,
   "id": "7f4dc844",
   "metadata": {},
   "outputs": [
    {
     "data": {
      "text/plain": [
       "<AxesSubplot:xlabel='gender', ylabel='income'>"
      ]
     },
     "execution_count": 25,
     "metadata": {},
     "output_type": "execute_result"
    },
    {
     "data": {
      "image/png": "[encoded data removed]",
      "text/plain": [
       "<Figure size 432x288 with 1 Axes>"
      ]
     },
     "metadata": {
      "needs_background": "light"
     },
     "output_type": "display_data"
    }
   ],
   "source": [
    "sns.barplot('gender','income',data=df)"
   ]
  },
  {
   "cell_type": "code",
   "execution_count": 26,
   "id": "f80516da",
   "metadata": {},
   "outputs": [
    {
     "data": {
      "text/plain": [
       "<AxesSubplot:xlabel='gender', ylabel='claim_amount'>"
      ]
     },
     "execution_count": 26,
     "metadata": {},
     "output_type": "execute_result"
    },
    {
     "data": {
      "image/png": "[encoded data removed]",
      "text/plain": [
       "<Figure size 432x288 with 1 Axes>"
      ]
     },
     "metadata": {
      "needs_background": "light"
     },
     "output_type": "display_data"
    }
   ],
   "source": [
    "sns.barplot('gender','claim_amount',data=df)"
   ]
  },
  {
   "cell_type": "code",
   "execution_count": 27,
   "id": "09b636bf",
   "metadata": {},
   "outputs": [
    {
     "data": {
      "text/plain": [
       "<AxesSubplot:xlabel='qualification', ylabel='num_policies'>"
      ]
     },
     "execution_count": 27,
     "metadata": {},
     "output_type": "execute_result"
    },
    {
     "data": {
      "image/png": "[encoded data removed]",
      "text/plain": [
       "<Figure size 432x288 with 1 Axes>"
      ]
     },
     "metadata": {
      "needs_background": "light"
     },
     "output_type": "display_data"
    }
   ],
   "source": [
    "sns.barplot('qualification','num_policies',data=df)"
   ]
  },
  {
   "cell_type": "code",
   "execution_count": 28,
   "id": "26093569",
   "metadata": {},
   "outputs": [
    {
     "data": {
      "text/plain": [
       "<AxesSubplot:xlabel='type_of_policy', ylabel='marital_status'>"
      ]
     },
     "execution_count": 28,
     "metadata": {},
     "output_type": "execute_result"
    },
    {
     "data": {
      "image/png": "[encoded data removed]",
      "text/plain": [
       "<Figure size 432x288 with 1 Axes>"
      ]
     },
     "metadata": {
      "needs_background": "light"
     },
     "output_type": "display_data"
    }
   ],
   "source": [
    "sns.barplot('type_of_policy','marital_status',data=df)"
   ]
  },
  {
   "cell_type": "markdown",
   "id": "e476b61d",
   "metadata": {},
   "source": [
    "## Input Split"
   ]
  },
  {
   "cell_type": "code",
   "execution_count": 29,
   "id": "6febc781",
   "metadata": {},
   "outputs": [],
   "source": [
    "train = df.iloc[:train_len,:]\n",
    "test = df.iloc[train_len:,:]"
   ]
  },
  {
   "cell_type": "code",
   "execution_count": 30,
   "id": "9555d2d5",
   "metadata": {},
   "outputs": [
    {
     "data": {
      "text/html": [
       "<div>\n",
       "<style scoped>\n",
       "    .dataframe tbody tr th:only-of-type {\n",
       "        vertical-align: middle;\n",
       "    }\n",
       "\n",
       "    .dataframe tbody tr th {\n",
       "        vertical-align: top;\n",
       "    }\n",
       "\n",
       "    .dataframe thead th {\n",
       "        text-align: right;\n",
       "    }\n",
       "</style>\n",
       "<table border=\"1\" class=\"dataframe\">\n",
       "  <thead>\n",
       "    <tr style=\"text-align: right;\">\n",
       "      <th></th>\n",
       "      <th>id</th>\n",
       "      <th>gender</th>\n",
       "      <th>area</th>\n",
       "      <th>qualification</th>\n",
       "      <th>income</th>\n",
       "      <th>marital_status</th>\n",
       "      <th>vintage</th>\n",
       "      <th>claim_amount</th>\n",
       "      <th>num_policies</th>\n",
       "      <th>policy</th>\n",
       "      <th>type_of_policy</th>\n",
       "      <th>cltv</th>\n",
       "    </tr>\n",
       "  </thead>\n",
       "  <tbody>\n",
       "    <tr>\n",
       "      <th>0</th>\n",
       "      <td>1</td>\n",
       "      <td>1</td>\n",
       "      <td>1</td>\n",
       "      <td>0</td>\n",
       "      <td>2</td>\n",
       "      <td>1</td>\n",
       "      <td>5</td>\n",
       "      <td>5790.0</td>\n",
       "      <td>1</td>\n",
       "      <td>0</td>\n",
       "      <td>1</td>\n",
       "      <td>64308.0</td>\n",
       "    </tr>\n",
       "    <tr>\n",
       "      <th>1</th>\n",
       "      <td>2</td>\n",
       "      <td>1</td>\n",
       "      <td>0</td>\n",
       "      <td>1</td>\n",
       "      <td>2</td>\n",
       "      <td>0</td>\n",
       "      <td>8</td>\n",
       "      <td>5080.0</td>\n",
       "      <td>1</td>\n",
       "      <td>0</td>\n",
       "      <td>1</td>\n",
       "      <td>515400.0</td>\n",
       "    </tr>\n",
       "    <tr>\n",
       "      <th>2</th>\n",
       "      <td>3</td>\n",
       "      <td>1</td>\n",
       "      <td>1</td>\n",
       "      <td>0</td>\n",
       "      <td>2</td>\n",
       "      <td>1</td>\n",
       "      <td>8</td>\n",
       "      <td>2599.0</td>\n",
       "      <td>1</td>\n",
       "      <td>0</td>\n",
       "      <td>1</td>\n",
       "      <td>64212.0</td>\n",
       "    </tr>\n",
       "    <tr>\n",
       "      <th>3</th>\n",
       "      <td>4</td>\n",
       "      <td>0</td>\n",
       "      <td>0</td>\n",
       "      <td>1</td>\n",
       "      <td>2</td>\n",
       "      <td>0</td>\n",
       "      <td>7</td>\n",
       "      <td>0.0</td>\n",
       "      <td>1</td>\n",
       "      <td>0</td>\n",
       "      <td>1</td>\n",
       "      <td>97920.0</td>\n",
       "    </tr>\n",
       "    <tr>\n",
       "      <th>4</th>\n",
       "      <td>5</td>\n",
       "      <td>1</td>\n",
       "      <td>1</td>\n",
       "      <td>1</td>\n",
       "      <td>3</td>\n",
       "      <td>1</td>\n",
       "      <td>6</td>\n",
       "      <td>3508.0</td>\n",
       "      <td>1</td>\n",
       "      <td>0</td>\n",
       "      <td>0</td>\n",
       "      <td>59736.0</td>\n",
       "    </tr>\n",
       "    <tr>\n",
       "      <th>...</th>\n",
       "      <td>...</td>\n",
       "      <td>...</td>\n",
       "      <td>...</td>\n",
       "      <td>...</td>\n",
       "      <td>...</td>\n",
       "      <td>...</td>\n",
       "      <td>...</td>\n",
       "      <td>...</td>\n",
       "      <td>...</td>\n",
       "      <td>...</td>\n",
       "      <td>...</td>\n",
       "      <td>...</td>\n",
       "    </tr>\n",
       "    <tr>\n",
       "      <th>89387</th>\n",
       "      <td>89388</td>\n",
       "      <td>1</td>\n",
       "      <td>0</td>\n",
       "      <td>1</td>\n",
       "      <td>3</td>\n",
       "      <td>0</td>\n",
       "      <td>6</td>\n",
       "      <td>0.0</td>\n",
       "      <td>1</td>\n",
       "      <td>1</td>\n",
       "      <td>1</td>\n",
       "      <td>95736.0</td>\n",
       "    </tr>\n",
       "    <tr>\n",
       "      <th>89388</th>\n",
       "      <td>89389</td>\n",
       "      <td>1</td>\n",
       "      <td>1</td>\n",
       "      <td>0</td>\n",
       "      <td>2</td>\n",
       "      <td>1</td>\n",
       "      <td>0</td>\n",
       "      <td>3897.0</td>\n",
       "      <td>1</td>\n",
       "      <td>0</td>\n",
       "      <td>1</td>\n",
       "      <td>67596.0</td>\n",
       "    </tr>\n",
       "    <tr>\n",
       "      <th>89389</th>\n",
       "      <td>89390</td>\n",
       "      <td>0</td>\n",
       "      <td>1</td>\n",
       "      <td>0</td>\n",
       "      <td>2</td>\n",
       "      <td>0</td>\n",
       "      <td>4</td>\n",
       "      <td>3363.0</td>\n",
       "      <td>1</td>\n",
       "      <td>1</td>\n",
       "      <td>1</td>\n",
       "      <td>114120.0</td>\n",
       "    </tr>\n",
       "    <tr>\n",
       "      <th>89390</th>\n",
       "      <td>89391</td>\n",
       "      <td>0</td>\n",
       "      <td>0</td>\n",
       "      <td>1</td>\n",
       "      <td>1</td>\n",
       "      <td>0</td>\n",
       "      <td>8</td>\n",
       "      <td>0.0</td>\n",
       "      <td>1</td>\n",
       "      <td>1</td>\n",
       "      <td>1</td>\n",
       "      <td>71772.0</td>\n",
       "    </tr>\n",
       "    <tr>\n",
       "      <th>89391</th>\n",
       "      <td>89392</td>\n",
       "      <td>0</td>\n",
       "      <td>0</td>\n",
       "      <td>1</td>\n",
       "      <td>2</td>\n",
       "      <td>0</td>\n",
       "      <td>6</td>\n",
       "      <td>0.0</td>\n",
       "      <td>1</td>\n",
       "      <td>1</td>\n",
       "      <td>0</td>\n",
       "      <td>108144.0</td>\n",
       "    </tr>\n",
       "  </tbody>\n",
       "</table>\n",
       "<p>89392 rows × 12 columns</p>\n",
       "</div>"
      ],
      "text/plain": [
       "          id  gender  area  qualification  income  marital_status  vintage  \\\n",
       "0          1       1     1              0       2               1        5   \n",
       "1          2       1     0              1       2               0        8   \n",
       "2          3       1     1              0       2               1        8   \n",
       "3          4       0     0              1       2               0        7   \n",
       "4          5       1     1              1       3               1        6   \n",
       "...      ...     ...   ...            ...     ...             ...      ...   \n",
       "89387  89388       1     0              1       3               0        6   \n",
       "89388  89389       1     1              0       2               1        0   \n",
       "89389  89390       0     1              0       2               0        4   \n",
       "89390  89391       0     0              1       1               0        8   \n",
       "89391  89392       0     0              1       2               0        6   \n",
       "\n",
       "       claim_amount  num_policies  policy  type_of_policy      cltv  \n",
       "0            5790.0             1       0               1   64308.0  \n",
       "1            5080.0             1       0               1  515400.0  \n",
       "2            2599.0             1       0               1   64212.0  \n",
       "3               0.0             1       0               1   97920.0  \n",
       "4            3508.0             1       0               0   59736.0  \n",
       "...             ...           ...     ...             ...       ...  \n",
       "89387           0.0             1       1               1   95736.0  \n",
       "89388        3897.0             1       0               1   67596.0  \n",
       "89389        3363.0             1       1               1  114120.0  \n",
       "89390           0.0             1       1               1   71772.0  \n",
       "89391           0.0             1       1               0  108144.0  \n",
       "\n",
       "[89392 rows x 12 columns]"
      ]
     },
     "execution_count": 30,
     "metadata": {},
     "output_type": "execute_result"
    }
   ],
   "source": [
    "train"
   ]
  },
  {
   "cell_type": "code",
   "execution_count": 31,
   "id": "353def78",
   "metadata": {},
   "outputs": [
    {
     "data": {
      "text/html": [
       "<div>\n",
       "<style scoped>\n",
       "    .dataframe tbody tr th:only-of-type {\n",
       "        vertical-align: middle;\n",
       "    }\n",
       "\n",
       "    .dataframe tbody tr th {\n",
       "        vertical-align: top;\n",
       "    }\n",
       "\n",
       "    .dataframe thead th {\n",
       "        text-align: right;\n",
       "    }\n",
       "</style>\n",
       "<table border=\"1\" class=\"dataframe\">\n",
       "  <thead>\n",
       "    <tr style=\"text-align: right;\">\n",
       "      <th></th>\n",
       "      <th>id</th>\n",
       "      <th>gender</th>\n",
       "      <th>area</th>\n",
       "      <th>qualification</th>\n",
       "      <th>income</th>\n",
       "      <th>marital_status</th>\n",
       "      <th>vintage</th>\n",
       "      <th>claim_amount</th>\n",
       "      <th>num_policies</th>\n",
       "      <th>policy</th>\n",
       "      <th>type_of_policy</th>\n",
       "      <th>cltv</th>\n",
       "    </tr>\n",
       "  </thead>\n",
       "  <tbody>\n",
       "    <tr>\n",
       "      <th>89392</th>\n",
       "      <td>89393</td>\n",
       "      <td>0</td>\n",
       "      <td>0</td>\n",
       "      <td>1</td>\n",
       "      <td>2</td>\n",
       "      <td>0</td>\n",
       "      <td>6</td>\n",
       "      <td>2134.0</td>\n",
       "      <td>1</td>\n",
       "      <td>1</td>\n",
       "      <td>2</td>\n",
       "      <td>NaN</td>\n",
       "    </tr>\n",
       "    <tr>\n",
       "      <th>89393</th>\n",
       "      <td>89394</td>\n",
       "      <td>0</td>\n",
       "      <td>1</td>\n",
       "      <td>1</td>\n",
       "      <td>1</td>\n",
       "      <td>0</td>\n",
       "      <td>4</td>\n",
       "      <td>4102.0</td>\n",
       "      <td>1</td>\n",
       "      <td>0</td>\n",
       "      <td>1</td>\n",
       "      <td>NaN</td>\n",
       "    </tr>\n",
       "    <tr>\n",
       "      <th>89394</th>\n",
       "      <td>89395</td>\n",
       "      <td>1</td>\n",
       "      <td>0</td>\n",
       "      <td>1</td>\n",
       "      <td>2</td>\n",
       "      <td>1</td>\n",
       "      <td>7</td>\n",
       "      <td>2925.0</td>\n",
       "      <td>1</td>\n",
       "      <td>1</td>\n",
       "      <td>0</td>\n",
       "      <td>NaN</td>\n",
       "    </tr>\n",
       "    <tr>\n",
       "      <th>89395</th>\n",
       "      <td>89396</td>\n",
       "      <td>0</td>\n",
       "      <td>0</td>\n",
       "      <td>0</td>\n",
       "      <td>3</td>\n",
       "      <td>1</td>\n",
       "      <td>2</td>\n",
       "      <td>0.0</td>\n",
       "      <td>1</td>\n",
       "      <td>1</td>\n",
       "      <td>2</td>\n",
       "      <td>NaN</td>\n",
       "    </tr>\n",
       "    <tr>\n",
       "      <th>89396</th>\n",
       "      <td>89397</td>\n",
       "      <td>0</td>\n",
       "      <td>1</td>\n",
       "      <td>1</td>\n",
       "      <td>1</td>\n",
       "      <td>0</td>\n",
       "      <td>5</td>\n",
       "      <td>7946.0</td>\n",
       "      <td>1</td>\n",
       "      <td>1</td>\n",
       "      <td>2</td>\n",
       "      <td>NaN</td>\n",
       "    </tr>\n",
       "    <tr>\n",
       "      <th>...</th>\n",
       "      <td>...</td>\n",
       "      <td>...</td>\n",
       "      <td>...</td>\n",
       "      <td>...</td>\n",
       "      <td>...</td>\n",
       "      <td>...</td>\n",
       "      <td>...</td>\n",
       "      <td>...</td>\n",
       "      <td>...</td>\n",
       "      <td>...</td>\n",
       "      <td>...</td>\n",
       "      <td>...</td>\n",
       "    </tr>\n",
       "    <tr>\n",
       "      <th>148982</th>\n",
       "      <td>148983</td>\n",
       "      <td>1</td>\n",
       "      <td>0</td>\n",
       "      <td>0</td>\n",
       "      <td>2</td>\n",
       "      <td>1</td>\n",
       "      <td>6</td>\n",
       "      <td>0.0</td>\n",
       "      <td>0</td>\n",
       "      <td>0</td>\n",
       "      <td>2</td>\n",
       "      <td>NaN</td>\n",
       "    </tr>\n",
       "    <tr>\n",
       "      <th>148983</th>\n",
       "      <td>148984</td>\n",
       "      <td>1</td>\n",
       "      <td>1</td>\n",
       "      <td>1</td>\n",
       "      <td>2</td>\n",
       "      <td>0</td>\n",
       "      <td>6</td>\n",
       "      <td>0.0</td>\n",
       "      <td>0</td>\n",
       "      <td>2</td>\n",
       "      <td>0</td>\n",
       "      <td>NaN</td>\n",
       "    </tr>\n",
       "    <tr>\n",
       "      <th>148984</th>\n",
       "      <td>148985</td>\n",
       "      <td>0</td>\n",
       "      <td>1</td>\n",
       "      <td>1</td>\n",
       "      <td>1</td>\n",
       "      <td>1</td>\n",
       "      <td>4</td>\n",
       "      <td>3323.0</td>\n",
       "      <td>1</td>\n",
       "      <td>1</td>\n",
       "      <td>1</td>\n",
       "      <td>NaN</td>\n",
       "    </tr>\n",
       "    <tr>\n",
       "      <th>148985</th>\n",
       "      <td>148986</td>\n",
       "      <td>1</td>\n",
       "      <td>0</td>\n",
       "      <td>0</td>\n",
       "      <td>2</td>\n",
       "      <td>0</td>\n",
       "      <td>1</td>\n",
       "      <td>2886.0</td>\n",
       "      <td>1</td>\n",
       "      <td>0</td>\n",
       "      <td>2</td>\n",
       "      <td>NaN</td>\n",
       "    </tr>\n",
       "    <tr>\n",
       "      <th>148986</th>\n",
       "      <td>148987</td>\n",
       "      <td>0</td>\n",
       "      <td>1</td>\n",
       "      <td>0</td>\n",
       "      <td>2</td>\n",
       "      <td>1</td>\n",
       "      <td>4</td>\n",
       "      <td>5939.0</td>\n",
       "      <td>1</td>\n",
       "      <td>1</td>\n",
       "      <td>1</td>\n",
       "      <td>NaN</td>\n",
       "    </tr>\n",
       "  </tbody>\n",
       "</table>\n",
       "<p>59595 rows × 12 columns</p>\n",
       "</div>"
      ],
      "text/plain": [
       "            id  gender  area  qualification  income  marital_status  vintage  \\\n",
       "89392    89393       0     0              1       2               0        6   \n",
       "89393    89394       0     1              1       1               0        4   \n",
       "89394    89395       1     0              1       2               1        7   \n",
       "89395    89396       0     0              0       3               1        2   \n",
       "89396    89397       0     1              1       1               0        5   \n",
       "...        ...     ...   ...            ...     ...             ...      ...   \n",
       "148982  148983       1     0              0       2               1        6   \n",
       "148983  148984       1     1              1       2               0        6   \n",
       "148984  148985       0     1              1       1               1        4   \n",
       "148985  148986       1     0              0       2               0        1   \n",
       "148986  148987       0     1              0       2               1        4   \n",
       "\n",
       "        claim_amount  num_policies  policy  type_of_policy  cltv  \n",
       "89392         2134.0             1       1               2   NaN  \n",
       "89393         4102.0             1       0               1   NaN  \n",
       "89394         2925.0             1       1               0   NaN  \n",
       "89395            0.0             1       1               2   NaN  \n",
       "89396         7946.0             1       1               2   NaN  \n",
       "...              ...           ...     ...             ...   ...  \n",
       "148982           0.0             0       0               2   NaN  \n",
       "148983           0.0             0       2               0   NaN  \n",
       "148984        3323.0             1       1               1   NaN  \n",
       "148985        2886.0             1       0               2   NaN  \n",
       "148986        5939.0             1       1               1   NaN  \n",
       "\n",
       "[59595 rows x 12 columns]"
      ]
     },
     "execution_count": 31,
     "metadata": {},
     "output_type": "execute_result"
    }
   ],
   "source": [
    "test"
   ]
  },
  {
   "cell_type": "markdown",
   "id": "10a2d756",
   "metadata": {},
   "source": [
    "## Model Building"
   ]
  },
  {
   "cell_type": "code",
   "execution_count": 32,
   "id": "f3458469",
   "metadata": {},
   "outputs": [],
   "source": [
    "X = train.drop('cltv',axis=1)\n",
    "y = train[['cltv']]"
   ]
  },
  {
   "cell_type": "code",
   "execution_count": 33,
   "id": "66f23663",
   "metadata": {},
   "outputs": [],
   "source": [
    "X_train,X_test,y_train,y_test=train_test_split(X,y,test_size=0.20,random_state=12,shuffle=True)"
   ]
  },
  {
   "cell_type": "code",
   "execution_count": 34,
   "id": "8b7ad6d1",
   "metadata": {},
   "outputs": [
    {
     "data": {
      "text/plain": [
       "((71513, 11), (71513, 1))"
      ]
     },
     "execution_count": 34,
     "metadata": {},
     "output_type": "execute_result"
    }
   ],
   "source": [
    "X_train.shape,y_train.shape"
   ]
  },
  {
   "cell_type": "code",
   "execution_count": 35,
   "id": "4c85973f",
   "metadata": {},
   "outputs": [
    {
     "data": {
      "text/plain": [
       "((17879, 11), (17879, 1))"
      ]
     },
     "execution_count": 35,
     "metadata": {},
     "output_type": "execute_result"
    }
   ],
   "source": [
    "X_test.shape,y_test.shape"
   ]
  },
  {
   "cell_type": "markdown",
   "id": "fe249789",
   "metadata": {},
   "source": [
    "The following models will the applied on the data:\n",
    "1. Linear Regression\n",
    "2. Decision Tree Regressor\n",
    "3. Random Forest Regressor\n",
    "4. Gradient boosting Regressor\n",
    "5. Lasso Regressor\n",
    "6. Ridge Regressor"
   ]
  },
  {
   "cell_type": "markdown",
   "id": "7c3ca192",
   "metadata": {},
   "source": [
    "## Model Training "
   ]
  },
  {
   "cell_type": "code",
   "execution_count": 36,
   "id": "0f22a89a",
   "metadata": {},
   "outputs": [],
   "source": [
    "linear_model = LinearRegression()\n",
    "dt_model = DecisionTreeRegressor()\n",
    "rf_model = RandomForestRegressor()\n",
    "gb_model = GradientBoostingRegressor()\n",
    "ls = Lasso(alpha=1)\n",
    "ridge = Ridge(alpha=5)"
   ]
  },
  {
   "cell_type": "markdown",
   "id": "69a3f89d",
   "metadata": {},
   "source": [
    "### Training time analysis"
   ]
  },
  {
   "cell_type": "code",
   "execution_count": 37,
   "id": "27276100",
   "metadata": {},
   "outputs": [
    {
     "name": "stdout",
     "output_type": "stream",
     "text": [
      "CPU times: total: 93.8 ms\n",
      "Wall time: 176 ms\n"
     ]
    },
    {
     "data": {
      "text/plain": [
       "LinearRegression()"
      ]
     },
     "execution_count": 37,
     "metadata": {},
     "output_type": "execute_result"
    }
   ],
   "source": [
    "%%time\n",
    "linear_model.fit(X_train,y_train)"
   ]
  },
  {
   "cell_type": "code",
   "execution_count": 38,
   "id": "d8b3d99b",
   "metadata": {},
   "outputs": [
    {
     "name": "stdout",
     "output_type": "stream",
     "text": [
      "CPU times: total: 484 ms\n",
      "Wall time: 512 ms\n"
     ]
    },
    {
     "data": {
      "text/plain": [
       "DecisionTreeRegressor()"
      ]
     },
     "execution_count": 38,
     "metadata": {},
     "output_type": "execute_result"
    }
   ],
   "source": [
    "%%time\n",
    "dt_model.fit(X_train,y_train)"
   ]
  },
  {
   "cell_type": "code",
   "execution_count": 39,
   "id": "40ec6392",
   "metadata": {},
   "outputs": [
    {
     "name": "stdout",
     "output_type": "stream",
     "text": [
      "CPU times: total: 29.6 s\n",
      "Wall time: 37.5 s\n"
     ]
    },
    {
     "data": {
      "text/plain": [
       "RandomForestRegressor()"
      ]
     },
     "execution_count": 39,
     "metadata": {},
     "output_type": "execute_result"
    }
   ],
   "source": [
    "%%time\n",
    "rf_model.fit(X_train,y_train)"
   ]
  },
  {
   "cell_type": "code",
   "execution_count": 40,
   "id": "a8b0cb6e",
   "metadata": {},
   "outputs": [
    {
     "name": "stdout",
     "output_type": "stream",
     "text": [
      "CPU times: total: 7.77 s\n",
      "Wall time: 9.11 s\n"
     ]
    },
    {
     "data": {
      "text/plain": [
       "GradientBoostingRegressor()"
      ]
     },
     "execution_count": 40,
     "metadata": {},
     "output_type": "execute_result"
    }
   ],
   "source": [
    "%%time\n",
    "gb_model.fit(X_train,y_train)"
   ]
  },
  {
   "cell_type": "code",
   "execution_count": 41,
   "id": "64b1a110",
   "metadata": {},
   "outputs": [
    {
     "name": "stdout",
     "output_type": "stream",
     "text": [
      "CPU times: total: 78.1 ms\n",
      "Wall time: 61.6 ms\n"
     ]
    },
    {
     "data": {
      "text/plain": [
       "Lasso(alpha=1)"
      ]
     },
     "execution_count": 41,
     "metadata": {},
     "output_type": "execute_result"
    }
   ],
   "source": [
    "%%time\n",
    "ls.fit(X_train,y_train)"
   ]
  },
  {
   "cell_type": "code",
   "execution_count": 42,
   "id": "802b8771",
   "metadata": {},
   "outputs": [
    {
     "name": "stdout",
     "output_type": "stream",
     "text": [
      "CPU times: total: 31.2 ms\n",
      "Wall time: 52.7 ms\n"
     ]
    },
    {
     "data": {
      "text/plain": [
       "Ridge(alpha=5)"
      ]
     },
     "execution_count": 42,
     "metadata": {},
     "output_type": "execute_result"
    }
   ],
   "source": [
    "%%time\n",
    "ridge.fit(X_train,y_train)"
   ]
  },
  {
   "cell_type": "markdown",
   "id": "fa9053b8",
   "metadata": {},
   "source": [
    "## Model Testing"
   ]
  },
  {
   "cell_type": "markdown",
   "id": "90d170cb",
   "metadata": {},
   "source": [
    "#### For training data"
   ]
  },
  {
   "cell_type": "code",
   "execution_count": 43,
   "id": "3554b26d",
   "metadata": {},
   "outputs": [],
   "source": [
    "y_pred_train_linear_model = linear_model.predict(X_train)\n",
    "y_pred_train_dt = dt_model.predict(X_train)\n",
    "y_pred_train_rf = rf_model.predict(X_train)\n",
    "y_pred_train_gb = gb_model.predict(X_train)\n",
    "y_pred_train_ls = ls.predict(X_train)\n",
    "y_pred_train_ridge = ridge.predict(X_train)"
   ]
  },
  {
   "cell_type": "markdown",
   "id": "ee0e448d",
   "metadata": {},
   "source": [
    "#### For testing data"
   ]
  },
  {
   "cell_type": "code",
   "execution_count": 44,
   "id": "7c2d4109",
   "metadata": {},
   "outputs": [],
   "source": [
    "y_pred_test_linear_model = linear_model.predict(X_test)\n",
    "y_pred_test_dt = dt_model.predict(X_test)\n",
    "y_pred_test_rf = rf_model.predict(X_test)\n",
    "y_pred_test_gb = gb_model.predict(X_test)\n",
    "y_pred_test_ls = ls.predict(X_test)\n",
    "y_pred_test_ridge = ridge.predict(X_test)"
   ]
  },
  {
   "cell_type": "markdown",
   "id": "b6b3181d",
   "metadata": {},
   "source": [
    "## Model Evaluation"
   ]
  },
  {
   "cell_type": "markdown",
   "id": "fd722e99",
   "metadata": {},
   "source": [
    "### 1. Linear Model Performance "
   ]
  },
  {
   "cell_type": "code",
   "execution_count": 45,
   "id": "e5d42415",
   "metadata": {},
   "outputs": [
    {
     "name": "stdout",
     "output_type": "stream",
     "text": [
      "Training data :\n",
      "\n",
      "r2 score: 0.1493008647279268\n",
      "****************************************************************\n",
      "Testing data :\n",
      "\n",
      "r2 score: 0.1466325487013762\n"
     ]
    }
   ],
   "source": [
    "print('Training data :\\n')\n",
    "print('r2 score:',r2_score(y_train,y_pred_train_linear_model))\n",
    "data={'Linear Model':[r2_score(y_train,y_pred_train_linear_model)]}\n",
    "df_train=pd.DataFrame(data,index=['r2 score'])\n",
    "print('****************************************************************')\n",
    "print('Testing data :\\n')\n",
    "print('r2 score:',r2_score(y_test,y_pred_test_linear_model))\n",
    "data1={'Linear Model':[r2_score(y_test,y_pred_test_linear_model)]}\n",
    "df_test=pd.DataFrame(data1,index=['r2 score'])"
   ]
  },
  {
   "cell_type": "markdown",
   "id": "d129ab8c",
   "metadata": {},
   "source": [
    "### 2. Decision Tree Regressor Performance"
   ]
  },
  {
   "cell_type": "code",
   "execution_count": 46,
   "id": "f5dc1b85",
   "metadata": {},
   "outputs": [
    {
     "name": "stdout",
     "output_type": "stream",
     "text": [
      "Training data :\n",
      "\n",
      "r2 score: 1.0\n",
      "****************************************************************\n",
      "Testing data :\n",
      "\n",
      "r2 score: -0.7626393093809809\n"
     ]
    }
   ],
   "source": [
    "print('Training data :\\n')\n",
    "print('r2 score:',r2_score(y_train,y_pred_train_dt))\n",
    "df_train['Decision Tree']=[r2_score(y_train,y_pred_train_dt)]\n",
    "print('****************************************************************')\n",
    "print('Testing data :\\n')\n",
    "print('r2 score:',r2_score(y_test,y_pred_test_dt))\n",
    "df_test['Decision Tree']=[r2_score(y_test,y_pred_test_dt)]"
   ]
  },
  {
   "cell_type": "markdown",
   "id": "8747107a",
   "metadata": {},
   "source": [
    "### 3. Random Forest Regressor Performance"
   ]
  },
  {
   "cell_type": "code",
   "execution_count": 47,
   "id": "78011cee",
   "metadata": {},
   "outputs": [
    {
     "name": "stdout",
     "output_type": "stream",
     "text": [
      "Training data :\n",
      "\n",
      "r2 score: 0.8714390568129917\n",
      "****************************************************************\n",
      "Testing data :\n",
      "\n",
      "r2 score: 0.08594361658590333\n"
     ]
    }
   ],
   "source": [
    "print('Training data :\\n')\n",
    "print('r2 score:',r2_score(y_train,y_pred_train_rf))\n",
    "df_train['Random Forest']=[r2_score(y_train,y_pred_train_rf)]\n",
    "print('****************************************************************')\n",
    "print('Testing data :\\n')\n",
    "print('r2 score:',r2_score(y_test,y_pred_test_rf))\n",
    "df_test['Random Forest']=[r2_score(y_test,y_pred_test_rf)]"
   ]
  },
  {
   "cell_type": "markdown",
   "id": "973fc409",
   "metadata": {},
   "source": [
    "### 4. Gradient Boosting Regressor Performance"
   ]
  },
  {
   "cell_type": "code",
   "execution_count": 48,
   "id": "5cdeb00f",
   "metadata": {},
   "outputs": [
    {
     "name": "stdout",
     "output_type": "stream",
     "text": [
      "Training data :\n",
      "\n",
      "r2 score: 0.16711801452203556\n",
      "****************************************************************\n",
      "Testing data :\n",
      "\n",
      "r2 score: 0.15814010416142033\n"
     ]
    }
   ],
   "source": [
    "print('Training data :\\n')\n",
    "print('r2 score:',r2_score(y_train,y_pred_train_gb))\n",
    "df_train['Gradient Boosting']=[r2_score(y_train,y_pred_train_gb)]\n",
    "print('****************************************************************')\n",
    "print('Testing data :\\n')\n",
    "print('r2 score:',r2_score(y_test,y_pred_test_gb))\n",
    "df_test['Gradient Boosting']=[r2_score(y_test,y_pred_test_gb)]"
   ]
  },
  {
   "cell_type": "markdown",
   "id": "10f76220",
   "metadata": {},
   "source": [
    "### 5. Lasso Regressor Performance"
   ]
  },
  {
   "cell_type": "code",
   "execution_count": 49,
   "id": "3dca2daa",
   "metadata": {},
   "outputs": [
    {
     "name": "stdout",
     "output_type": "stream",
     "text": [
      "Training data :\n",
      "\n",
      "r2 score: 0.14930086129795783\n",
      "****************************************************************\n",
      "Testing data :\n",
      "\n",
      "r2 score: 0.14663284421898204\n"
     ]
    }
   ],
   "source": [
    "print('Training data :\\n')\n",
    "print('r2 score:',r2_score(y_train,y_pred_train_ls))\n",
    "df_train['Lasso']=[r2_score(y_train,y_pred_train_ls)]\n",
    "print('****************************************************************')\n",
    "print('Testing data :\\n')\n",
    "print('r2 score:',r2_score(y_test,y_pred_test_ls))\n",
    "df_test['Lasso']=[r2_score(y_test,y_pred_test_ls)]"
   ]
  },
  {
   "cell_type": "markdown",
   "id": "3b9c12b8",
   "metadata": {},
   "source": [
    "### 6. Ridge Regressor Performance"
   ]
  },
  {
   "cell_type": "code",
   "execution_count": 50,
   "id": "c6e28b3f",
   "metadata": {},
   "outputs": [
    {
     "name": "stdout",
     "output_type": "stream",
     "text": [
      "Training data :\n",
      "\n",
      "r2 score: 0.14930085277183658\n",
      "****************************************************************\n",
      "Testing data :\n",
      "\n",
      "r2 score: 0.146630849247253\n"
     ]
    }
   ],
   "source": [
    "print('Training data :\\n')\n",
    "print('r2 score:',r2_score(y_train,y_pred_train_ridge))\n",
    "df_train['Ridge']=[r2_score(y_train,y_pred_train_ridge)]\n",
    "print('****************************************************************')\n",
    "print('Testing data :\\n')\n",
    "print('r2 score:',r2_score(y_test,y_pred_test_ridge))\n",
    "df_test['Ridge']=[r2_score(y_test,y_pred_test_ridge)]"
   ]
  },
  {
   "cell_type": "markdown",
   "id": "4f74f325",
   "metadata": {},
   "source": [
    "## Feature Engineering"
   ]
  },
  {
   "cell_type": "markdown",
   "id": "ccb16bcc",
   "metadata": {},
   "source": [
    "#### Using RFE [ Recursive Feature Elimination ]"
   ]
  },
  {
   "cell_type": "code",
   "execution_count": 51,
   "id": "59d376d3",
   "metadata": {},
   "outputs": [
    {
     "data": {
      "text/plain": [
       "RFE(estimator=RandomForestRegressor(random_state=15))"
      ]
     },
     "execution_count": 51,
     "metadata": {},
     "output_type": "execute_result"
    }
   ],
   "source": [
    "rfe_model = RFE(estimator=RandomForestRegressor(random_state=15),n_features_to_select=None)\n",
    "rfe_model.fit(X_train,y_train)"
   ]
  },
  {
   "cell_type": "code",
   "execution_count": 52,
   "id": "0a75a0e2",
   "metadata": {},
   "outputs": [
    {
     "data": {
      "text/plain": [
       "array([ True, False, False, False, False, False,  True,  True,  True,\n",
       "       False,  True])"
      ]
     },
     "execution_count": 52,
     "metadata": {},
     "output_type": "execute_result"
    }
   ],
   "source": [
    "rfe_model.get_support()"
   ]
  },
  {
   "cell_type": "code",
   "execution_count": 53,
   "id": "bc2c1635",
   "metadata": {},
   "outputs": [
    {
     "data": {
      "text/plain": [
       "Index(['id', 'vintage', 'claim_amount', 'num_policies', 'type_of_policy'], dtype='object')"
      ]
     },
     "execution_count": 53,
     "metadata": {},
     "output_type": "execute_result"
    }
   ],
   "source": [
    "X_train.columns[rfe_model.get_support()]"
   ]
  },
  {
   "cell_type": "code",
   "execution_count": 54,
   "id": "79db89c3",
   "metadata": {},
   "outputs": [
    {
     "data": {
      "text/plain": [
       "5"
      ]
     },
     "execution_count": 54,
     "metadata": {},
     "output_type": "execute_result"
    }
   ],
   "source": [
    "len(X_train.columns[rfe_model.get_support()])"
   ]
  },
  {
   "cell_type": "code",
   "execution_count": 55,
   "id": "3320817b",
   "metadata": {},
   "outputs": [],
   "source": [
    "X_train_rfe_selected = rfe_model.transform(X_train)\n",
    "X_test_rfe_selected = rfe_model.transform(X_test)"
   ]
  },
  {
   "cell_type": "code",
   "execution_count": 56,
   "id": "fb79d2e5",
   "metadata": {},
   "outputs": [
    {
     "data": {
      "text/plain": [
       "(71513, 5)"
      ]
     },
     "execution_count": 56,
     "metadata": {},
     "output_type": "execute_result"
    }
   ],
   "source": [
    "X_train_rfe_selected.shape"
   ]
  },
  {
   "cell_type": "code",
   "execution_count": 57,
   "id": "bd2862a6",
   "metadata": {},
   "outputs": [
    {
     "data": {
      "text/plain": [
       "(17879, 5)"
      ]
     },
     "execution_count": 57,
     "metadata": {},
     "output_type": "execute_result"
    }
   ],
   "source": [
    "X_test_rfe_selected.shape"
   ]
  },
  {
   "cell_type": "code",
   "execution_count": 58,
   "id": "4d26de5f",
   "metadata": {},
   "outputs": [],
   "source": [
    "def run_RandomForestRegressor(X_train,y_train,X_test,y_test):\n",
    "    rf_regressor = RandomForestRegressor(random_state=15)\n",
    "    rf_regressor.fit(X_train,y_train)\n",
    "\n",
    "    y_pred = rf_regressor.predict(X_train)\n",
    "    print('******Training Data******')\n",
    "    print('r2 score:',r2_score(y_train,y_pred))"
   ]
  },
  {
   "cell_type": "code",
   "execution_count": 59,
   "id": "57ad813a",
   "metadata": {
    "scrolled": true
   },
   "outputs": [
    {
     "name": "stdout",
     "output_type": "stream",
     "text": [
      "******Training Data******\n",
      "r2 score: 0.8654686062806681\n"
     ]
    }
   ],
   "source": [
    "run_RandomForestRegressor(X_train_rfe_selected,y_train,X_test_rfe_selected,y_test)"
   ]
  },
  {
   "cell_type": "code",
   "execution_count": 60,
   "id": "06b3d3ea",
   "metadata": {},
   "outputs": [],
   "source": [
    "def run_RandomForestRegressor(X_train,y_train,X_test,y_test):\n",
    "    rf_regressor = RandomForestRegressor(random_state=15)\n",
    "    rf_regressor.fit(X_train,y_train)\n",
    "    \n",
    "    y_pred = rf_regressor.predict(X_test)\n",
    "    print('******Testing Data******')\n",
    "    print('r2 score:',r2_score(y_test,y_pred))"
   ]
  },
  {
   "cell_type": "code",
   "execution_count": 61,
   "id": "28f04ce8",
   "metadata": {},
   "outputs": [
    {
     "name": "stdout",
     "output_type": "stream",
     "text": [
      "******Testing Data******\n",
      "r2 score: 0.026876618341351244\n"
     ]
    }
   ],
   "source": [
    "run_RandomForestRegressor(X_train_rfe_selected,y_train,X_test_rfe_selected,y_test)"
   ]
  },
  {
   "cell_type": "markdown",
   "id": "e8738ab1",
   "metadata": {},
   "source": [
    "## Build Random Forest Model with hyperparameters"
   ]
  },
  {
   "cell_type": "code",
   "execution_count": 62,
   "id": "2e573ac5",
   "metadata": {},
   "outputs": [],
   "source": [
    "# Number of trees in random forest\n",
    "n_estimators = [int(x) for x in np.linspace(start = 10, stop = 80, num = 10)]\n",
    "# Number of features to consider at every split\n",
    "max_features = ['auto', 'sqrt']\n",
    "# Maximum number of levels in tree\n",
    "max_depth = [2,4]\n",
    "# Minimum number of samples required to split a node\n",
    "min_samples_split = [2, 5]\n",
    "# Minimum number of samples required at each leaf node\n",
    "min_samples_leaf = [1, 2]\n",
    "# Method of selecting samples for training each tree\n",
    "bootstrap = [True, False]"
   ]
  },
  {
   "cell_type": "code",
   "execution_count": 63,
   "id": "84d372fb",
   "metadata": {},
   "outputs": [
    {
     "name": "stdout",
     "output_type": "stream",
     "text": [
      "{'n_estimators': [10, 17, 25, 33, 41, 48, 56, 64, 72, 80], 'max_features': ['auto', 'sqrt'], 'max_depth': [2, 4], 'min_samples_split': [2, 5], 'min_samples_leaf': [1, 2], 'bootstrap': [True, False]}\n"
     ]
    }
   ],
   "source": [
    "# Create the param grid\n",
    "param_grid = {'n_estimators': n_estimators,\n",
    "               'max_features': max_features,\n",
    "               'max_depth': max_depth,\n",
    "               'min_samples_split': min_samples_split,\n",
    "               'min_samples_leaf': min_samples_leaf,\n",
    "               'bootstrap': bootstrap}\n",
    "print(param_grid)"
   ]
  },
  {
   "cell_type": "code",
   "execution_count": 64,
   "id": "21f59ea7",
   "metadata": {},
   "outputs": [],
   "source": [
    "random_forest = RandomForestRegressor()"
   ]
  },
  {
   "cell_type": "code",
   "execution_count": 65,
   "id": "f5126ca8",
   "metadata": {},
   "outputs": [],
   "source": [
    "from sklearn.model_selection import RandomizedSearchCV\n",
    "rf_RandomGrid = RandomizedSearchCV(estimator = random_forest, param_distributions = param_grid, cv = 5, verbose=2, n_jobs = 4)"
   ]
  },
  {
   "cell_type": "code",
   "execution_count": 66,
   "id": "e9dbc71a",
   "metadata": {},
   "outputs": [
    {
     "name": "stdout",
     "output_type": "stream",
     "text": [
      "Fitting 5 folds for each of 10 candidates, totalling 50 fits\n"
     ]
    },
    {
     "data": {
      "text/plain": [
       "RandomizedSearchCV(cv=5, estimator=RandomForestRegressor(), n_jobs=4,\n",
       "                   param_distributions={'bootstrap': [True, False],\n",
       "                                        'max_depth': [2, 4],\n",
       "                                        'max_features': ['auto', 'sqrt'],\n",
       "                                        'min_samples_leaf': [1, 2],\n",
       "                                        'min_samples_split': [2, 5],\n",
       "                                        'n_estimators': [10, 17, 25, 33, 41, 48,\n",
       "                                                         56, 64, 72, 80]},\n",
       "                   verbose=2)"
      ]
     },
     "execution_count": 66,
     "metadata": {},
     "output_type": "execute_result"
    }
   ],
   "source": [
    "rf_RandomGrid.fit(X_train, y_train)"
   ]
  },
  {
   "cell_type": "code",
   "execution_count": 67,
   "id": "e97b840b",
   "metadata": {},
   "outputs": [
    {
     "data": {
      "text/plain": [
       "{'n_estimators': 56,\n",
       " 'min_samples_split': 5,\n",
       " 'min_samples_leaf': 1,\n",
       " 'max_features': 'auto',\n",
       " 'max_depth': 4,\n",
       " 'bootstrap': True}"
      ]
     },
     "execution_count": 67,
     "metadata": {},
     "output_type": "execute_result"
    }
   ],
   "source": [
    "rf_RandomGrid.best_params_"
   ]
  },
  {
   "cell_type": "code",
   "execution_count": 68,
   "id": "77484c00",
   "metadata": {},
   "outputs": [],
   "source": [
    "random_forest_model = RandomForestRegressor(n_estimators=17,\n",
    "                               min_samples_split=2,\n",
    "                               min_samples_leaf=2,\n",
    "                               max_features= 'auto',\n",
    "                               max_depth=4,\n",
    "                               bootstrap=False)"
   ]
  },
  {
   "cell_type": "code",
   "execution_count": 69,
   "id": "52cb6c4c",
   "metadata": {},
   "outputs": [
    {
     "data": {
      "text/plain": [
       "RandomForestRegressor(bootstrap=False, max_depth=4, min_samples_leaf=2,\n",
       "                      n_estimators=17)"
      ]
     },
     "execution_count": 69,
     "metadata": {},
     "output_type": "execute_result"
    }
   ],
   "source": [
    "random_forest_model.fit(X_train,y_train)"
   ]
  },
  {
   "cell_type": "code",
   "execution_count": 70,
   "id": "e5257a06",
   "metadata": {},
   "outputs": [],
   "source": [
    "pred_train = random_forest_model.predict(X_train)"
   ]
  },
  {
   "cell_type": "code",
   "execution_count": 71,
   "id": "8d481893",
   "metadata": {},
   "outputs": [],
   "source": [
    "pred_test = random_forest_model.predict(X_test)"
   ]
  },
  {
   "cell_type": "code",
   "execution_count": 72,
   "id": "b5d5463d",
   "metadata": {},
   "outputs": [
    {
     "name": "stdout",
     "output_type": "stream",
     "text": [
      "Training data :\n",
      "\n",
      "r2 score: 0.1562735998593371\n",
      "****************************************************************\n",
      "Testing data :\n",
      "\n",
      "r2 score: 0.15183108758791652\n"
     ]
    }
   ],
   "source": [
    "print('Training data :\\n')\n",
    "print('r2 score:',r2_score(y_train,pred_train))\n",
    "df_train['Random Forest']=[r2_score(y_train,pred_train)]\n",
    "print('****************************************************************')\n",
    "print('Testing data :\\n')\n",
    "print('r2 score:',r2_score(y_test,pred_test))\n",
    "df_test['Random Forest']=[r2_score(y_test,pred_test)]"
   ]
  },
  {
   "cell_type": "markdown",
   "id": "976f46e4",
   "metadata": {},
   "source": [
    "### Prediction on test data"
   ]
  },
  {
   "cell_type": "code",
   "execution_count": 74,
   "id": "cc2b4e9c",
   "metadata": {},
   "outputs": [
    {
     "data": {
      "text/html": [
       "<div>\n",
       "<style scoped>\n",
       "    .dataframe tbody tr th:only-of-type {\n",
       "        vertical-align: middle;\n",
       "    }\n",
       "\n",
       "    .dataframe tbody tr th {\n",
       "        vertical-align: top;\n",
       "    }\n",
       "\n",
       "    .dataframe thead th {\n",
       "        text-align: right;\n",
       "    }\n",
       "</style>\n",
       "<table border=\"1\" class=\"dataframe\">\n",
       "  <thead>\n",
       "    <tr style=\"text-align: right;\">\n",
       "      <th></th>\n",
       "      <th>id</th>\n",
       "      <th>gender</th>\n",
       "      <th>area</th>\n",
       "      <th>qualification</th>\n",
       "      <th>income</th>\n",
       "      <th>marital_status</th>\n",
       "      <th>vintage</th>\n",
       "      <th>claim_amount</th>\n",
       "      <th>num_policies</th>\n",
       "      <th>policy</th>\n",
       "      <th>type_of_policy</th>\n",
       "    </tr>\n",
       "  </thead>\n",
       "  <tbody>\n",
       "    <tr>\n",
       "      <th>89392</th>\n",
       "      <td>89393</td>\n",
       "      <td>0</td>\n",
       "      <td>0</td>\n",
       "      <td>1</td>\n",
       "      <td>2</td>\n",
       "      <td>0</td>\n",
       "      <td>6</td>\n",
       "      <td>2134.0</td>\n",
       "      <td>1</td>\n",
       "      <td>1</td>\n",
       "      <td>2</td>\n",
       "    </tr>\n",
       "    <tr>\n",
       "      <th>89393</th>\n",
       "      <td>89394</td>\n",
       "      <td>0</td>\n",
       "      <td>1</td>\n",
       "      <td>1</td>\n",
       "      <td>1</td>\n",
       "      <td>0</td>\n",
       "      <td>4</td>\n",
       "      <td>4102.0</td>\n",
       "      <td>1</td>\n",
       "      <td>0</td>\n",
       "      <td>1</td>\n",
       "    </tr>\n",
       "    <tr>\n",
       "      <th>89394</th>\n",
       "      <td>89395</td>\n",
       "      <td>1</td>\n",
       "      <td>0</td>\n",
       "      <td>1</td>\n",
       "      <td>2</td>\n",
       "      <td>1</td>\n",
       "      <td>7</td>\n",
       "      <td>2925.0</td>\n",
       "      <td>1</td>\n",
       "      <td>1</td>\n",
       "      <td>0</td>\n",
       "    </tr>\n",
       "    <tr>\n",
       "      <th>89395</th>\n",
       "      <td>89396</td>\n",
       "      <td>0</td>\n",
       "      <td>0</td>\n",
       "      <td>0</td>\n",
       "      <td>3</td>\n",
       "      <td>1</td>\n",
       "      <td>2</td>\n",
       "      <td>0.0</td>\n",
       "      <td>1</td>\n",
       "      <td>1</td>\n",
       "      <td>2</td>\n",
       "    </tr>\n",
       "    <tr>\n",
       "      <th>89396</th>\n",
       "      <td>89397</td>\n",
       "      <td>0</td>\n",
       "      <td>1</td>\n",
       "      <td>1</td>\n",
       "      <td>1</td>\n",
       "      <td>0</td>\n",
       "      <td>5</td>\n",
       "      <td>7946.0</td>\n",
       "      <td>1</td>\n",
       "      <td>1</td>\n",
       "      <td>2</td>\n",
       "    </tr>\n",
       "    <tr>\n",
       "      <th>...</th>\n",
       "      <td>...</td>\n",
       "      <td>...</td>\n",
       "      <td>...</td>\n",
       "      <td>...</td>\n",
       "      <td>...</td>\n",
       "      <td>...</td>\n",
       "      <td>...</td>\n",
       "      <td>...</td>\n",
       "      <td>...</td>\n",
       "      <td>...</td>\n",
       "      <td>...</td>\n",
       "    </tr>\n",
       "    <tr>\n",
       "      <th>148982</th>\n",
       "      <td>148983</td>\n",
       "      <td>1</td>\n",
       "      <td>0</td>\n",
       "      <td>0</td>\n",
       "      <td>2</td>\n",
       "      <td>1</td>\n",
       "      <td>6</td>\n",
       "      <td>0.0</td>\n",
       "      <td>0</td>\n",
       "      <td>0</td>\n",
       "      <td>2</td>\n",
       "    </tr>\n",
       "    <tr>\n",
       "      <th>148983</th>\n",
       "      <td>148984</td>\n",
       "      <td>1</td>\n",
       "      <td>1</td>\n",
       "      <td>1</td>\n",
       "      <td>2</td>\n",
       "      <td>0</td>\n",
       "      <td>6</td>\n",
       "      <td>0.0</td>\n",
       "      <td>0</td>\n",
       "      <td>2</td>\n",
       "      <td>0</td>\n",
       "    </tr>\n",
       "    <tr>\n",
       "      <th>148984</th>\n",
       "      <td>148985</td>\n",
       "      <td>0</td>\n",
       "      <td>1</td>\n",
       "      <td>1</td>\n",
       "      <td>1</td>\n",
       "      <td>1</td>\n",
       "      <td>4</td>\n",
       "      <td>3323.0</td>\n",
       "      <td>1</td>\n",
       "      <td>1</td>\n",
       "      <td>1</td>\n",
       "    </tr>\n",
       "    <tr>\n",
       "      <th>148985</th>\n",
       "      <td>148986</td>\n",
       "      <td>1</td>\n",
       "      <td>0</td>\n",
       "      <td>0</td>\n",
       "      <td>2</td>\n",
       "      <td>0</td>\n",
       "      <td>1</td>\n",
       "      <td>2886.0</td>\n",
       "      <td>1</td>\n",
       "      <td>0</td>\n",
       "      <td>2</td>\n",
       "    </tr>\n",
       "    <tr>\n",
       "      <th>148986</th>\n",
       "      <td>148987</td>\n",
       "      <td>0</td>\n",
       "      <td>1</td>\n",
       "      <td>0</td>\n",
       "      <td>2</td>\n",
       "      <td>1</td>\n",
       "      <td>4</td>\n",
       "      <td>5939.0</td>\n",
       "      <td>1</td>\n",
       "      <td>1</td>\n",
       "      <td>1</td>\n",
       "    </tr>\n",
       "  </tbody>\n",
       "</table>\n",
       "<p>59595 rows × 11 columns</p>\n",
       "</div>"
      ],
      "text/plain": [
       "            id  gender  area  qualification  income  marital_status  vintage  \\\n",
       "89392    89393       0     0              1       2               0        6   \n",
       "89393    89394       0     1              1       1               0        4   \n",
       "89394    89395       1     0              1       2               1        7   \n",
       "89395    89396       0     0              0       3               1        2   \n",
       "89396    89397       0     1              1       1               0        5   \n",
       "...        ...     ...   ...            ...     ...             ...      ...   \n",
       "148982  148983       1     0              0       2               1        6   \n",
       "148983  148984       1     1              1       2               0        6   \n",
       "148984  148985       0     1              1       1               1        4   \n",
       "148985  148986       1     0              0       2               0        1   \n",
       "148986  148987       0     1              0       2               1        4   \n",
       "\n",
       "        claim_amount  num_policies  policy  type_of_policy  \n",
       "89392         2134.0             1       1               2  \n",
       "89393         4102.0             1       0               1  \n",
       "89394         2925.0             1       1               0  \n",
       "89395            0.0             1       1               2  \n",
       "89396         7946.0             1       1               2  \n",
       "...              ...           ...     ...             ...  \n",
       "148982           0.0             0       0               2  \n",
       "148983           0.0             0       2               0  \n",
       "148984        3323.0             1       1               1  \n",
       "148985        2886.0             1       0               2  \n",
       "148986        5939.0             1       1               1  \n",
       "\n",
       "[59595 rows x 11 columns]"
      ]
     },
     "execution_count": 74,
     "metadata": {},
     "output_type": "execute_result"
    }
   ],
   "source": [
    "x_test = test.drop('cltv',axis=1)\n",
    "x_test"
   ]
  },
  {
   "cell_type": "code",
   "execution_count": 87,
   "id": "2ce44bce",
   "metadata": {},
   "outputs": [
    {
     "data": {
      "text/plain": [
       "RandomForestRegressor(bootstrap=False, max_depth=4, min_samples_leaf=2,\n",
       "                      n_estimators=17)"
      ]
     },
     "execution_count": 87,
     "metadata": {},
     "output_type": "execute_result"
    }
   ],
   "source": [
    "model=RandomForestRegressor(n_estimators=17,\n",
    "                               min_samples_split=2,\n",
    "                               min_samples_leaf=2,\n",
    "                               max_features= 'auto',\n",
    "                               max_depth=4,\n",
    "                               bootstrap=False)\n",
    "model.fit(X,y)"
   ]
  },
  {
   "cell_type": "code",
   "execution_count": 88,
   "id": "d64a9712",
   "metadata": {},
   "outputs": [
    {
     "data": {
      "text/plain": [
       "array([ 95722.99741305, 122115.36016607, 105623.18276845, ...,\n",
       "       110745.26747345,  95722.99741305, 127591.34479272])"
      ]
     },
     "execution_count": 88,
     "metadata": {},
     "output_type": "execute_result"
    }
   ],
   "source": [
    "pred = model.predict(x_test)\n",
    "pred"
   ]
  },
  {
   "cell_type": "code",
   "execution_count": 89,
   "id": "6477a1a1",
   "metadata": {},
   "outputs": [
    {
     "data": {
      "text/html": [
       "<div>\n",
       "<style scoped>\n",
       "    .dataframe tbody tr th:only-of-type {\n",
       "        vertical-align: middle;\n",
       "    }\n",
       "\n",
       "    .dataframe tbody tr th {\n",
       "        vertical-align: top;\n",
       "    }\n",
       "\n",
       "    .dataframe thead th {\n",
       "        text-align: right;\n",
       "    }\n",
       "</style>\n",
       "<table border=\"1\" class=\"dataframe\">\n",
       "  <thead>\n",
       "    <tr style=\"text-align: right;\">\n",
       "      <th></th>\n",
       "      <th>id</th>\n",
       "      <th>cltv</th>\n",
       "    </tr>\n",
       "  </thead>\n",
       "  <tbody>\n",
       "    <tr>\n",
       "      <th>89392</th>\n",
       "      <td>89393</td>\n",
       "      <td>95722.997413</td>\n",
       "    </tr>\n",
       "    <tr>\n",
       "      <th>89393</th>\n",
       "      <td>89394</td>\n",
       "      <td>122115.360166</td>\n",
       "    </tr>\n",
       "    <tr>\n",
       "      <th>89394</th>\n",
       "      <td>89395</td>\n",
       "      <td>105623.182768</td>\n",
       "    </tr>\n",
       "    <tr>\n",
       "      <th>89395</th>\n",
       "      <td>89396</td>\n",
       "      <td>95722.997413</td>\n",
       "    </tr>\n",
       "    <tr>\n",
       "      <th>89396</th>\n",
       "      <td>89397</td>\n",
       "      <td>149930.262273</td>\n",
       "    </tr>\n",
       "  </tbody>\n",
       "</table>\n",
       "</div>"
      ],
      "text/plain": [
       "          id           cltv\n",
       "89392  89393   95722.997413\n",
       "89393  89394  122115.360166\n",
       "89394  89395  105623.182768\n",
       "89395  89396   95722.997413\n",
       "89396  89397  149930.262273"
      ]
     },
     "execution_count": 89,
     "metadata": {},
     "output_type": "execute_result"
    }
   ],
   "source": [
    "submission=pd.DataFrame()\n",
    "submission['id']=x_test[\"id\"]\n",
    "submission['cltv'] = pred\n",
    "submission.head()"
   ]
  },
  {
   "cell_type": "code",
   "execution_count": 90,
   "id": "84522d0b",
   "metadata": {},
   "outputs": [],
   "source": [
    "submission.to_csv('Sample_submission.csv',index=False)"
   ]
  },
  {
   "cell_type": "code",
   "execution_count": 92,
   "id": "f94ccc59",
   "metadata": {},
   "outputs": [],
   "source": [
    "y_train_pr = model.predict(X)"
   ]
  },
  {
   "cell_type": "code",
   "execution_count": 96,
   "id": "b0392da1",
   "metadata": {},
   "outputs": [
    {
     "name": "stdout",
     "output_type": "stream",
     "text": [
      "r2 score: 0.16\n"
     ]
    }
   ],
   "source": [
    "print('r2 score:',round(r2_score(y,y_train_pr),2))"
   ]
  }
 ],
 "metadata": {
  "kernelspec": {
   "display_name": "Python 3 (ipykernel)",
   "language": "python",
   "name": "python3"
  },
  "language_info": {
   "codemirror_mode": {
    "name": "ipython",
    "version": 3
   },
   "file_extension": ".py",
   "mimetype": "text/x-python",
   "name": "python",
   "nbconvert_exporter": "python",
   "pygments_lexer": "ipython3",
   "version": "3.9.12"
  }
 },
 "nbformat": 4,
 "nbformat_minor": 5
}
